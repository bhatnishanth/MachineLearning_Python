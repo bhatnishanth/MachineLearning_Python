{
  "nbformat": 4,
  "nbformat_minor": 0,
  "metadata": {
    "colab": {
      "name": "KNN.ipynb",
      "provenance": []
    },
    "kernelspec": {
      "name": "python3",
      "display_name": "Python 3"
    }
  },
  "cells": [
    {
      "cell_type": "code",
      "metadata": {
        "id": "ZufCu0KKpua3",
        "colab_type": "code",
        "outputId": "94047c35-a78a-4f9f-89bd-79b3d694972f",
        "colab": {
          "base_uri": "https://localhost:8080/",
          "height": 121
        }
      },
      "source": [
        "\n",
        "from __future__ import print_function, division\n",
        "from future.utils import iteritems\n",
        "from builtins import range, input\n",
        "\n",
        "import numpy as np\n",
        "import pandas as pd\n",
        "import matplotlib.pyplot as plt\n",
        "from sortedcontainers import SortedList\n",
        "\n",
        "from datetime import datetime\n",
        "\n",
        "from google.colab import drive\n",
        "drive.mount('/content/drive/')\n",
        "\n",
        "\n",
        "\t\n",
        "\n"
      ],
      "execution_count": 0,
      "outputs": [
        {
          "output_type": "stream",
          "text": [
            "Go to this URL in a browser: https://accounts.google.com/o/oauth2/auth?client_id=947318989803-6bn6qk8qdgf4n4g3pfee6491hc0brc4i.apps.googleusercontent.com&redirect_uri=urn%3aietf%3awg%3aoauth%3a2.0%3aoob&response_type=code&scope=email%20https%3a%2f%2fwww.googleapis.com%2fauth%2fdocs.test%20https%3a%2f%2fwww.googleapis.com%2fauth%2fdrive%20https%3a%2f%2fwww.googleapis.com%2fauth%2fdrive.photos.readonly%20https%3a%2f%2fwww.googleapis.com%2fauth%2fpeopleapi.readonly\n",
            "\n",
            "Enter your authorization code:\n",
            "··········\n",
            "Mounted at /content/drive/\n"
          ],
          "name": "stdout"
        }
      ]
    },
    {
      "cell_type": "code",
      "metadata": {
        "id": "sjHMkRGT03Pl",
        "colab_type": "code",
        "colab": {}
      },
      "source": [
        "def get_data(limit=None):\n",
        "  print(\"Reading in and transforming data...\")\n",
        "  df = pd.read_csv('/content/drive/My Drive/Datasets/KNN/train.csv/train.csv')\n",
        "  data = df.values\n",
        "  np.random.shuffle(data)\n",
        "  X = data[:, 1:] / 255.0 # data is from 0..255\n",
        "  Y = data[:, 0]\n",
        "  if limit is not None:\n",
        "    X, Y = X[:limit], Y[:limit]\n",
        "  return X, Y"
      ],
      "execution_count": 0,
      "outputs": []
    },
    {
      "cell_type": "code",
      "metadata": {
        "id": "iqoXlfs1-dGw",
        "colab_type": "code",
        "colab": {}
      },
      "source": [
        "class KNN(object):\n",
        "    def __init__(self, k):\n",
        "        self.k = k\n",
        "\n",
        "    def fit(self, X, y):\n",
        "        self.X = X\n",
        "        self.y = y\n",
        "\n",
        "    def predict(self, X):\n",
        "        y = np.zeros(len(X))\n",
        "        for i,x in enumerate(X): # test points\n",
        "            sl = SortedList() # stores (distance, class) tuples\n",
        "            for j,xt in enumerate(self.X): # training points\n",
        "                diff = x - xt\n",
        "                d = diff.dot(diff)\n",
        "                if len(sl) < self.k:\n",
        "                    # don't need to check, just add\n",
        "                    sl.add( (d, self.y[j]) )\n",
        "                else:\n",
        "                    if d < sl[-1][0]:\n",
        "                        del sl[-1]\n",
        "                        sl.add( (d, self.y[j]) )\n",
        "            # print \"input:\", x\n",
        "            # print \"sl:\", sl\n",
        "\n",
        "            # vote\n",
        "            votes = {}\n",
        "            for _, v in sl:\n",
        "                # print \"v:\", v\n",
        "                votes[v] = votes.get(v,0) + 1\n",
        "            # print \"votes:\", votes, \"true:\", Ytest[i]\n",
        "            max_votes = 0\n",
        "            max_votes_class = -1\n",
        "            for v,count in iteritems(votes):\n",
        "                if count > max_votes:\n",
        "                    max_votes = count\n",
        "                    max_votes_class = v\n",
        "            y[i] = max_votes_class\n",
        "        return y\n",
        "\n",
        "    def score(self, X, Y):\n",
        "        P = self.predict(X)\n",
        "        return np.mean(P == Y)"
      ],
      "execution_count": 0,
      "outputs": []
    },
    {
      "cell_type": "code",
      "metadata": {
        "id": "Anmvr6Yz0qm_",
        "colab_type": "code",
        "outputId": "4b174348-f94f-4631-bdb3-c0f9b58f6dd3",
        "colab": {
          "base_uri": "https://localhost:8080/",
          "height": 34
        }
      },
      "source": [
        "X,Y=get_data(2000)\n",
        "Ntrain=1000\n",
        "Xtrain,Ytrain=X[:Ntrain],Y[:Ntrain]\n",
        "Xtest,Ytest=X[Ntrain:],Y[Ntrain:]\n",
        "\n"
      ],
      "execution_count": 0,
      "outputs": [
        {
          "output_type": "stream",
          "text": [
            "Reading in and transforming data...\n"
          ],
          "name": "stdout"
        }
      ]
    },
    {
      "cell_type": "code",
      "metadata": {
        "id": "OcExxXBy3Jz1",
        "colab_type": "code",
        "outputId": "764faba2-3d55-47c0-a614-50dbd4669e80",
        "colab": {
          "base_uri": "https://localhost:8080/",
          "height": 101
        }
      },
      "source": [
        "print(Xtrain.shape)\n",
        "print('\\n\\n\\n',Ytrain.shape\n",
        "      )"
      ],
      "execution_count": 0,
      "outputs": [
        {
          "output_type": "stream",
          "text": [
            "(1000, 784)\n",
            "\n",
            "\n",
            "\n",
            " (1000,)\n"
          ],
          "name": "stdout"
        }
      ]
    },
    {
      "cell_type": "code",
      "metadata": {
        "id": "uDCCE0a21uJ-",
        "colab_type": "code",
        "outputId": "46dbf62c-9f8f-45d6-efb5-d31dfbf5246d",
        "colab": {
          "base_uri": "https://localhost:8080/",
          "height": 437
        }
      },
      "source": [
        "for k in (1,2,3,4,5):\n",
        "  knn=KNN(k)\n",
        "  t0=datetime.now()\n",
        "  knn.fit(Xtest,Ytrain)\n",
        "  print(\"Training time: \",(datetime.now()-t0))\n",
        "\n",
        "  t0=datetime.now()\n",
        "  print (\"Train accuracy: \",knn.score(Xtrain,Ytrain))\n",
        "  print (\"Time to compute train accuracy\",(datetime.now()-t0),\"train size:\",len(Ytrain))\n",
        "\n",
        "  t0=datetime.now()\n",
        "  print (\"Test accuracy: \",knn.score(Xtest,Ytest))\n",
        "  print (\"Time to compute test accuracy\",(datetime.now()-t0),\"test size:\",len(Ytest))\n"
      ],
      "execution_count": 0,
      "outputs": [
        {
          "output_type": "stream",
          "text": [
            "Training time:  0:00:00.000008\n",
            "Train accuracy:  0.107\n",
            "Time to compute train accuracy 0:00:05.511597 train size: 1000\n",
            "Test accuracy:  0.09\n",
            "Time to compute test accuracy 0:00:05.443585 test size: 1000\n",
            "Training time:  0:00:00.000006\n",
            "Train accuracy:  0.107\n",
            "Time to compute train accuracy 0:00:05.484476 train size: 1000\n",
            "Test accuracy:  0.09\n",
            "Time to compute test accuracy 0:00:05.443190 test size: 1000\n",
            "Training time:  0:00:00.000008\n",
            "Train accuracy:  0.102\n",
            "Time to compute train accuracy 0:00:05.498972 train size: 1000\n",
            "Test accuracy:  0.087\n",
            "Time to compute test accuracy 0:00:05.484384 test size: 1000\n",
            "Training time:  0:00:00.000008\n",
            "Train accuracy:  0.101\n",
            "Time to compute train accuracy 0:00:05.486264 train size: 1000\n",
            "Test accuracy:  0.091\n",
            "Time to compute test accuracy 0:00:05.492755 test size: 1000\n",
            "Training time:  0:00:00.000005\n",
            "Train accuracy:  0.105\n",
            "Time to compute train accuracy 0:00:05.466322 train size: 1000\n",
            "Test accuracy:  0.086\n",
            "Time to compute test accuracy 0:00:05.439304 test size: 1000\n"
          ],
          "name": "stdout"
        }
      ]
    },
    {
      "cell_type": "markdown",
      "metadata": {
        "id": "a9SKlVkNI03M",
        "colab_type": "text"
      },
      "source": [
        "How can KNN fail?"
      ]
    },
    {
      "cell_type": "code",
      "metadata": {
        "id": "_VpvRE3rIzuC",
        "colab_type": "code",
        "colab": {}
      },
      "source": [
        "def getData():\n",
        "  width=8\n",
        "  height=8\n",
        "  N=width*height\n",
        "  X=np.zeros((N,2))\n",
        "  Y=np.zeros(N)\n",
        "  n=0\n",
        "  start_t=0\n",
        "  for i in range(width):\n",
        "    t=start_t\n",
        "    for j in range(height):\n",
        "      X[n]=[i,j]\n",
        "      Y[n]=t\n",
        "      n+=1\n",
        "      t=(t+1)%2\n",
        "    start_t=(start_t+1)%2\n",
        "  return X,Y"
      ],
      "execution_count": 0,
      "outputs": []
    },
    {
      "cell_type": "code",
      "metadata": {
        "id": "_Q_5wKFE5fsq",
        "colab_type": "code",
        "outputId": "92b96694-a099-46ea-9112-a9d6bf620d95",
        "colab": {
          "base_uri": "https://localhost:8080/",
          "height": 265
        }
      },
      "source": [
        "X,Y=getData()\n",
        "plt.scatter(X[:,0],X[:,1],s=100,c=Y,alpha=0.5)\n",
        "plt.show()"
      ],
      "execution_count": 0,
      "outputs": [
        {
          "output_type": "display_data",
          "data": {
            "image/png": "[encoded data removed]",
            "text/plain": [
              "<Figure size 432x288 with 1 Axes>"
            ]
          },
          "metadata": {
            "tags": [],
            "needs_background": "light"
          }
        }
      ]
    },
    {
      "cell_type": "code",
      "metadata": {
        "id": "Sx3r05v3Jv7C",
        "colab_type": "code",
        "outputId": "f5f75161-bec8-470a-f01b-3e69d6fded87",
        "colab": {
          "base_uri": "https://localhost:8080/",
          "height": 34
        }
      },
      "source": [
        "model=KNN(3)\n",
        "model.fit(X,Y)\n",
        "print(\"train accuracy: \",model.score(X,Y))"
      ],
      "execution_count": 0,
      "outputs": [
        {
          "output_type": "stream",
          "text": [
            "train accuracy:  0.0\n"
          ],
          "name": "stdout"
        }
      ]
    },
    {
      "cell_type": "code",
      "metadata": {
        "id": "m3ip_ue1KDes",
        "colab_type": "code",
        "colab": {}
      },
      "source": [
        ""
      ],
      "execution_count": 0,
      "outputs": []
    }
  ]
}