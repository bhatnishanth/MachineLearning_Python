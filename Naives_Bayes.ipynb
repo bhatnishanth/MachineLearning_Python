{
 "cells": [
  {
   "cell_type": "markdown",
   "metadata": {},
   "source": [
    "# Naive Bayes\n",
    "In machine learning, naïve Bayes classifiers are a family of simple \"probabilistic classifiers\" based on applying Bayes' theorem with strong (naïve) independence assumptions between the features. They are among the simplest Bayesian network models. But they could be coupled with Kernel density estimation and achieve higher accuracy levels."
   ]
  },
  {
   "cell_type": "markdown",
   "metadata": {},
   "source": [
    "# Imports"
   ]
  },
  {
   "cell_type": "code",
   "execution_count": 1,
   "metadata": {
    "colab": {
     "base_uri": "https://localhost:8080/",
     "height": 54
    },
    "colab_type": "code",
    "id": "9j8TcwCZyFCy",
    "outputId": "0910bafd-6096-457c-c8b8-9ceb026ade34"
   },
   "outputs": [],
   "source": [
    "from __future__ import print_function, division\n",
    "from future.utils import iteritems\n",
    "from builtins import range, input\n",
    "import numpy as np\n",
    "import pandas as pd\n",
    "import matplotlib.pyplot as plt\n",
    "from sortedcontainers import SortedList\n",
    "from datetime import datetime\n",
    "from scipy.stats import norm\n",
    "from scipy.stats import multivariate_normal as mvn"
   ]
  },
  {
   "cell_type": "markdown",
   "metadata": {},
   "source": [
    "# get_data(limit=None):\n",
    "This function reads the data from the csv file and returns the normalised data (in reduced form)."
   ]
  },
  {
   "cell_type": "code",
   "execution_count": 5,
   "metadata": {
    "colab": {},
    "colab_type": "code",
    "id": "kFTZVejS2tkP"
   },
   "outputs": [],
   "source": [
    "def get_data(limit=None):\n",
    "    print(\"Reading in and transforming data...\")\n",
    "    df = pd.read_csv('train.csv')\n",
    "    data = df.values\n",
    "    np.random.shuffle(data)\n",
    "    X = data[:, 1:] / 255.0 # data is from 0..255\n",
    "    Y = data[:, 0]\n",
    "    if limit is not None:\n",
    "        X, Y = X[:limit], Y[:limit]\n",
    "    return X, Y"
   ]
  },
  {
   "cell_type": "markdown",
   "metadata": {},
   "source": [
    "# Naive Bayes Model"
   ]
  },
  {
   "cell_type": "code",
   "execution_count": 6,
   "metadata": {
    "colab": {},
    "colab_type": "code",
    "id": "lJIcmV3N3v87"
   },
   "outputs": [],
   "source": [
    "class NaiveBayes(object):\n",
    "    def fit(self,X,Y,smoothing=10e-3):\n",
    "        self.gaussians=dict()\n",
    "        self.priors=dict()\n",
    "        labels=set(Y)\n",
    "        for c in labels:\n",
    "            current_x=X[Y==c]\n",
    "            self.gaussians[c]={\n",
    "            'mean':current_x.mean(axis=0),\n",
    "            'var':current_x.var(axis=0) + smoothing,\n",
    "          }\n",
    "            self.priors[c]=float(len(Y[Y==c]))/len(Y)\n",
    "    def score(self,X,Y):\n",
    "        P=self.predict(X)\n",
    "        return np.mean(P==Y)\n",
    "    def predict(self,X):\n",
    "        N,D=X.shape\n",
    "        K=len(self.gaussians)\n",
    "        P=np.zeros((N,K))\n",
    "        for c,g in iteritems(self.gaussians):\n",
    "            mean,var=g['mean'],g['var']\n",
    "            P[:,c]=mvn.logpdf(X,mean=mean,cov=var)+ np.log(self.priors[c])\n",
    "        return np.argmax(P,axis=1)"
   ]
  },
  {
   "cell_type": "markdown",
   "metadata": {},
   "source": [
    "We only use 10000 data points and splitting the data into 2 sets Train data and test data"
   ]
  },
  {
   "cell_type": "code",
   "execution_count": 12,
   "metadata": {
    "colab": {
     "base_uri": "https://localhost:8080/",
     "height": 34
    },
    "colab_type": "code",
    "id": "hpI5BjlG5CWR",
    "outputId": "3e10ffc8-0864-40ff-93f4-6fc784b757d2"
   },
   "outputs": [
    {
     "name": "stdout",
     "output_type": "stream",
     "text": [
      "Reading in and transforming data...\n"
     ]
    }
   ],
   "source": [
    "X,Y=get_data(10000)\n",
    "Ntrain=int(len(Y)/2)\n",
    "Xtrain,Ytrain=X[:Ntrain],Y[:Ntrain]\n",
    "Xtest,Ytest=X[Ntrain:],Y[Ntrain:]\n"
   ]
  },
  {
   "cell_type": "markdown",
   "metadata": {},
   "source": [
    "Timing the train  and test time .Printing their accuracy"
   ]
  },
  {
   "cell_type": "code",
   "execution_count": 14,
   "metadata": {
    "colab": {
     "base_uri": "https://localhost:8080/",
     "height": 101
    },
    "colab_type": "code",
    "id": "-CVVM4vS6Eq_",
    "outputId": "9d0e9b67-b81e-4e2a-d76f-848c45ac32a3"
   },
   "outputs": [
    {
     "name": "stdout",
     "output_type": "stream",
     "text": [
      "Training time: 0:00:00.189250\n",
      "Train Accuracy :  0.8098\n",
      "time to train accuracy 0:00:07.153797 \t Train size: 5000\n",
      "Test Accuracy :  0.7848\n",
      "time to test accuracy 0:00:07.105230 \t Test size: 5000\n"
     ]
    }
   ],
   "source": [
    "model=NaiveBayes()\n",
    "t0=datetime.now()\n",
    "model.fit(Xtrain,Ytrain)\n",
    "print(\"Training time:\",(datetime.now()-t0))\n",
    "t0=datetime.now()\n",
    "print(\"Train Accuracy : \",model.score(Xtrain,Ytrain) )\n",
    "print(\"time to train accuracy\",(datetime.now()-t0),\"\\t Train size:\",len(Ytrain))\n",
    "t0=datetime.now()\n",
    "print(\"Test Accuracy : \",model.score(Xtest,Ytest) )\n",
    "print(\"time to test accuracy\",(datetime.now()-t0),\"\\t Test size:\",len(Ytest))"
   ]
  },
  {
   "cell_type": "code",
   "execution_count": 0,
   "metadata": {
    "colab": {},
    "colab_type": "code",
    "id": "RS330HZW_fbY"
   },
   "outputs": [],
   "source": []
  }
 ],
 "metadata": {
  "colab": {
   "name": "Naives Bayesipynb",
   "provenance": []
  },
  "kernelspec": {
   "display_name": "Python 3",
   "language": "python",
   "name": "python3"
  },
  "language_info": {
   "codemirror_mode": {
    "name": "ipython",
    "version": 3
   },
   "file_extension": ".py",
   "mimetype": "text/x-python",
   "name": "python",
   "nbconvert_exporter": "python",
   "pygments_lexer": "ipython3",
   "version": "3.7.3"
  }
 },
 "nbformat": 4,
 "nbformat_minor": 1
}
