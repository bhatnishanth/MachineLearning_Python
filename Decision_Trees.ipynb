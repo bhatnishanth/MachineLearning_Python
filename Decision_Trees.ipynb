{
  "nbformat": 4,
  "nbformat_minor": 0,
  "metadata": {
    "colab": {
      "name": "Decision Trees.ipynb",
      "provenance": [],
      "collapsed_sections": []
    },
    "kernelspec": {
      "name": "python3",
      "display_name": "Python 3"
    }
  },
  "cells": [
    {
      "cell_type": "code",
      "metadata": {
        "id": "SAnKEsjES7gl",
        "colab_type": "code",
        "outputId": "d763dfce-18f3-4ece-d245-98233a0594c5",
        "colab": {
          "base_uri": "https://localhost:8080/",
          "height": 121
        }
      },
      "source": [
        "from __future__ import print_function, division\n",
        "from future.utils import iteritems\n",
        "from builtins import range, input\n",
        "\n",
        "import numpy as np\n",
        "import pandas as pd\n",
        "import matplotlib.pyplot as plt\n",
        "from sortedcontainers import SortedList\n",
        "\n",
        "from datetime import datetime\n",
        "from scipy.stats import norm\n",
        "from scipy.stats import multivariate_normal as mvn\n",
        "from google.colab import drive\n",
        "drive.mount('/content/drive/')"
      ],
      "execution_count": 0,
      "outputs": [
        {
          "output_type": "stream",
          "text": [
            "Go to this URL in a browser: https://accounts.google.com/o/oauth2/auth?client_id=947318989803-6bn6qk8qdgf4n4g3pfee6491hc0brc4i.apps.googleusercontent.com&redirect_uri=urn%3aietf%3awg%3aoauth%3a2.0%3aoob&response_type=code&scope=email%20https%3a%2f%2fwww.googleapis.com%2fauth%2fdocs.test%20https%3a%2f%2fwww.googleapis.com%2fauth%2fdrive%20https%3a%2f%2fwww.googleapis.com%2fauth%2fdrive.photos.readonly%20https%3a%2f%2fwww.googleapis.com%2fauth%2fpeopleapi.readonly\n",
            "\n",
            "Enter your authorization code:\n",
            "··········\n",
            "Mounted at /content/drive/\n"
          ],
          "name": "stdout"
        }
      ]
    },
    {
      "cell_type": "code",
      "metadata": {
        "id": "kV1zf_AIS8g7",
        "colab_type": "code",
        "colab": {}
      },
      "source": [
        "def get_data(limit=None):\n",
        "  print(\"Reading in and transforming data...\")\n",
        "  df = pd.read_csv('/content/drive/My Drive/Datasets/KNN/train.csv/train.csv')\n",
        "  data = df.values\n",
        "  np.random.shuffle(data)\n",
        "  X = data[:, 1:] / 255.0 # data is from 0..255\n",
        "  Y = data[:, 0]\n",
        "  if limit is not None:\n",
        "    X, Y = X[:limit], Y[:limit]\n",
        "  return X, Y"
      ],
      "execution_count": 0,
      "outputs": []
    },
    {
      "cell_type": "code",
      "metadata": {
        "id": "vGRMZcYCTHT2",
        "colab_type": "code",
        "colab": {}
      },
      "source": [
        "\n",
        "def get_donut():\n",
        "    N = 200\n",
        "    R_inner = 5\n",
        "    R_outer = 10\n",
        "\n",
        "    # distance from origin is radius + random normal\n",
        "    # angle theta is uniformly distributed between (0, 2pi)\n",
        "    R1 = np.random.randn(N//2) + R_inner\n",
        "    theta = 2*np.pi*np.random.random(N//2)\n",
        "    X_inner = np.concatenate([[R1 * np.cos(theta)], [R1 * np.sin(theta)]]).T\n",
        "\n",
        "    R2 = np.random.randn(N//2) + R_outer\n",
        "    theta = 2*np.pi*np.random.random(N//2)\n",
        "    X_outer = np.concatenate([[R2 * np.cos(theta)], [R2 * np.sin(theta)]]).T\n",
        "\n",
        "    X = np.concatenate([ X_inner, X_outer ])\n",
        "    Y = np.array([0]*(N//2) + [1]*(N//2))\n",
        "    return X, Y"
      ],
      "execution_count": 0,
      "outputs": []
    },
    {
      "cell_type": "code",
      "metadata": {
        "id": "lm4dY7THTedg",
        "colab_type": "code",
        "colab": {}
      },
      "source": [
        "def get_xor():\n",
        "    X = np.zeros((200, 2))\n",
        "    X[:50] = np.random.random((50, 2)) / 2 + 0.5 # (0.5-1, 0.5-1)\n",
        "    X[50:100] = np.random.random((50, 2)) / 2 # (0-0.5, 0-0.5)\n",
        "    X[100:150] = np.random.random((50, 2)) / 2 + np.array([[0, 0.5]]) # (0-0.5, 0.5-1)\n",
        "    X[150:] = np.random.random((50, 2)) / 2 + np.array([[0.5, 0]]) # (0.5-1, 0-0.5)\n",
        "    Y = np.array([0]*100 + [1]*100)\n",
        "    return X, Y"
      ],
      "execution_count": 0,
      "outputs": []
    },
    {
      "cell_type": "code",
      "metadata": {
        "id": "NjtPHi4QThE2",
        "colab_type": "code",
        "colab": {}
      },
      "source": [
        "def entropy(y):\n",
        "  N=len(y)\n",
        "  s1=(y==1).sum()\n",
        "  if 0==s1 or N==s1:\n",
        "    return 0\n",
        "  p1=float(s1)/N\n",
        "  p0=1-p1\n",
        "  return -p0*np.log2(p0)-p1*np.log2(p1)"
      ],
      "execution_count": 0,
      "outputs": []
    },
    {
      "cell_type": "code",
      "metadata": {
        "id": "zkvXwP0dT4Db",
        "colab_type": "code",
        "colab": {}
      },
      "source": [
        ""
      ],
      "execution_count": 0,
      "outputs": []
    },
    {
      "cell_type": "code",
      "metadata": {
        "id": "BQUg7fXUegHQ",
        "colab_type": "code",
        "colab": {}
      },
      "source": [
        "class TreeNode:\n",
        "    def __init__(self, depth=1, max_depth=None):\n",
        "        print('depth:', depth)\n",
        "        self.depth = depth\n",
        "        self.max_depth = max_depth\n",
        "        if self.max_depth is not None and self.max_depth < self.depth:\n",
        "            raise Exception(\"depth > max_depth\")\n",
        "\n",
        "    def fit(self, X, Y):\n",
        "        if len(Y) == 1 or len(set(Y)) == 1:\n",
        "            # base case, only 1 sample\n",
        "            # another base case\n",
        "            # this node only receives examples from 1 class\n",
        "            # we can't make a split\n",
        "            self.col = None\n",
        "            self.split = None\n",
        "            self.left = None\n",
        "            self.right = None\n",
        "            self.prediction = Y[0]\n",
        "\n",
        "        else:\n",
        "            D = X.shape[1]\n",
        "            cols = range(D)\n",
        "\n",
        "            max_ig = 0\n",
        "            best_col = None\n",
        "            best_split = None\n",
        "            for col in cols:\n",
        "                ig, split = self.find_split(X, Y, col)\n",
        "                # print \"ig:\", ig\n",
        "                if ig > max_ig:\n",
        "                    max_ig = ig\n",
        "                    best_col = col\n",
        "                    best_split = split\n",
        "\n",
        "            if max_ig == 0:\n",
        "                # nothing we can do\n",
        "                # no further splits\n",
        "                self.col = None\n",
        "                self.split = None\n",
        "                self.left = None\n",
        "                self.right = None\n",
        "                self.prediction = np.round(Y.mean())\n",
        "            else:\n",
        "                self.col = best_col\n",
        "                self.split = best_split\n",
        "\n",
        "                if self.depth == self.max_depth:\n",
        "                    self.left = None\n",
        "                    self.right = None\n",
        "                    self.prediction = [\n",
        "                        np.round(Y[X[:,best_col] < self.split].mean()),\n",
        "                        np.round(Y[X[:,best_col] >= self.split].mean()),\n",
        "                    ]\n",
        "                else:\n",
        "                    # print \"best split:\", best_split\n",
        "                    left_idx = (X[:,best_col] < best_split)\n",
        "                    # print \"left_idx.shape:\", left_idx.shape, \"len(X):\", len(X)\n",
        "                    Xleft = X[left_idx]\n",
        "                    Yleft = Y[left_idx]\n",
        "                    self.left = TreeNode(self.depth + 1, self.max_depth)\n",
        "                    self.left.fit(Xleft, Yleft)\n",
        "\n",
        "                    right_idx = (X[:,best_col] >= best_split)\n",
        "                    Xright = X[right_idx]\n",
        "                    Yright = Y[right_idx]\n",
        "                    self.right = TreeNode(self.depth + 1, self.max_depth)\n",
        "                    self.right.fit(Xright, Yright)\n",
        "\n",
        "    def find_split(self, X, Y, col):\n",
        "        # print \"finding split for col:\", col\n",
        "        x_values = X[:, col]\n",
        "        sort_idx = np.argsort(x_values)\n",
        "        x_values = x_values[sort_idx]\n",
        "        y_values = Y[sort_idx]\n",
        "\n",
        "        # Note: optimal split is the midpoint between 2 points\n",
        "        # Note: optimal split is only on the boundaries between 2 classes\n",
        "\n",
        "        # if boundaries[i] is true\n",
        "        # then y_values[i] != y_values[i+1]\n",
        "        # nonzero() gives us indices where arg is true\n",
        "        # but for some reason it returns a tuple of size 1\n",
        "        boundaries = np.nonzero(y_values[:-1] != y_values[1:])[0]\n",
        "        best_split = None\n",
        "        max_ig = 0\n",
        "        for b in boundaries:\n",
        "            split = (x_values[b] + x_values[b+1]) / 2\n",
        "            ig = self.information_gain(x_values, y_values, split)\n",
        "            if ig > max_ig:\n",
        "                max_ig = ig\n",
        "                best_split = split\n",
        "        return max_ig, best_split\n",
        "\n",
        "    def information_gain(self, x, y, split):\n",
        "        # assume classes are 0 and 1\n",
        "        # print \"split:\", split\n",
        "        y0 = y[x < split]\n",
        "        y1 = y[x >= split]\n",
        "        N = len(y)\n",
        "        y0len = len(y0)\n",
        "        if y0len == 0 or y0len == N:\n",
        "            return 0\n",
        "        p0 = float(len(y0)) / N\n",
        "        p1 = 1 - p0 #float(len(y1)) / N\n",
        "        # print \"entropy(y):\", entropy(y)\n",
        "        # print \"p0:\", p0\n",
        "        # print \"entropy(y0):\", entropy(y0)\n",
        "        # print \"p1:\", p1\n",
        "        # print \"entropy(y1):\", entropy(y1)\n",
        "        return entropy(y) - p0*entropy(y0) - p1*entropy(y1)\n",
        "\n",
        "    def predict_one(self, x):\n",
        "        # use \"is not None\" because 0 means False\n",
        "        if self.col is not None and self.split is not None:\n",
        "            feature = x[self.col]\n",
        "            if feature < self.split:\n",
        "                if self.left:\n",
        "                    p = self.left.predict_one(x)\n",
        "                else:\n",
        "                    p = self.prediction[0]\n",
        "            else:\n",
        "                if self.right:\n",
        "                    p = self.right.predict_one(x)\n",
        "                else:\n",
        "                    p = self.prediction[1]\n",
        "        else:\n",
        "            # corresponds to having only 1 prediction\n",
        "            p = self.prediction\n",
        "        return p\n",
        "\n",
        "    def predict(self, X):\n",
        "        N = len(X)\n",
        "        P = np.zeros(N)\n",
        "        for i in range(N):\n",
        "            P[i] = self.predict_one(X[i])\n",
        "        return P\n",
        "\n",
        "\n",
        "# This class is kind of redundant\n",
        "class DecisionTree:\n",
        "    def __init__(self, max_depth=None):\n",
        "        self.max_depth = max_depth\n",
        "\n",
        "    def fit(self, X, Y):\n",
        "        self.root = TreeNode(max_depth=self.max_depth)\n",
        "        self.root.fit(X, Y)\n",
        "\n",
        "    def predict(self, X):\n",
        "        return self.root.predict(X)\n",
        "\n",
        "    def score(self, X, Y):\n",
        "        P = self.predict(X)\n",
        "        return np.mean(P == Y)\n"
      ],
      "execution_count": 0,
      "outputs": []
    },
    {
      "cell_type": "code",
      "metadata": {
        "id": "QPDOlgRna2jX",
        "colab_type": "code",
        "outputId": "55e59921-ff20-489a-aef3-35d8ef635901",
        "colab": {
          "base_uri": "https://localhost:8080/",
          "height": 34
        }
      },
      "source": [
        "X,Y=get_data()\n",
        "idx=np.logical_or(Y==0,Y==1)\n",
        "X=X[idx]\n",
        "Y=Y[idx]\n",
        "Ntrain=int(len(Y)/2)\n",
        "Xtrain,Ytrain=X[:Ntrain],Y[:Ntrain]\n",
        "Xtest,Ytest=X[Ntrain:],Y[Ntrain:]\n"
      ],
      "execution_count": 0,
      "outputs": [
        {
          "output_type": "stream",
          "text": [
            "Reading in and transforming data...\n"
          ],
          "name": "stdout"
        }
      ]
    },
    {
      "cell_type": "code",
      "metadata": {
        "id": "c6cVpKRNbrLp",
        "colab_type": "code",
        "outputId": "6b231e07-e272-406f-af63-75b1bed1d515",
        "colab": {
          "base_uri": "https://localhost:8080/",
          "height": 554
        }
      },
      "source": [
        "model=DecisionTree()\n",
        "t0=datetime.now()\n",
        "model.fit(Xtrain,Ytrain)\n",
        "print(\"Training time:\",(datetime.now()-t0))\n",
        "t0=datetime.now()\n",
        "print(\"Train Accuracy : \",model.score(Xtrain,Ytrain) )\n",
        "print(\"time to train accuracy\",(datetime.now()-t0),\"\\t Train size:\",len(Ytrain))\n",
        "t0=datetime.now()\n",
        "print(\"Test Accuracy : \",model.score(Xtest,Ytest) )\n",
        "print(\"time to test accuracy\",(datetime.now()-t0),\"\\t Test size:\",len(Ytest))"
      ],
      "execution_count": 0,
      "outputs": [
        {
          "output_type": "stream",
          "text": [
            "depth: 1\n",
            "depth: 2\n",
            "depth: 3\n",
            "depth: 4\n",
            "depth: 5\n",
            "depth: 5\n",
            "depth: 6\n",
            "depth: 7\n",
            "depth: 7\n",
            "depth: 6\n",
            "depth: 4\n",
            "depth: 5\n",
            "depth: 5\n",
            "depth: 3\n",
            "depth: 4\n",
            "depth: 4\n",
            "depth: 2\n",
            "depth: 3\n",
            "depth: 4\n",
            "depth: 4\n",
            "depth: 5\n",
            "depth: 5\n",
            "depth: 3\n",
            "depth: 4\n",
            "depth: 5\n",
            "depth: 5\n",
            "depth: 4\n",
            "Training time: 0:00:28.721071\n",
            "Train Accuracy :  1.0\n",
            "time to train accuracy 0:00:00.011936 \t Train size: 4408\n",
            "Test Accuracy :  0.9950090744101633\n",
            "time to test accuracy 0:00:00.011057 \t Test size: 4408\n"
          ],
          "name": "stdout"
        }
      ]
    },
    {
      "cell_type": "code",
      "metadata": {
        "id": "8qIoFFdXb0Ed",
        "colab_type": "code",
        "colab": {}
      },
      "source": [
        ""
      ],
      "execution_count": 0,
      "outputs": []
    }
  ]
}