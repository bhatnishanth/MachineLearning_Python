{
  "nbformat": 4,
  "nbformat_minor": 0,
  "metadata": {
    "colab": {
      "name": "Bayes Classifiers.ipynb",
      "provenance": []
    },
    "kernelspec": {
      "name": "python3",
      "display_name": "Python 3"
    }
  },
  "cells": [
    {
      "cell_type": "code",
      "metadata": {
        "id": "C-dVtzlDFz8d",
        "colab_type": "code",
        "outputId": "a129222e-eb42-4033-c75e-d40d2895de8d",
        "colab": {
          "base_uri": "https://localhost:8080/",
          "height": 121
        }
      },
      "source": [
        "from __future__ import print_function, division\n",
        "from future.utils import iteritems\n",
        "from builtins import range, input\n",
        "\n",
        "import numpy as np\n",
        "import pandas as pd\n",
        "import matplotlib.pyplot as plt\n",
        "from sortedcontainers import SortedList\n",
        "\n",
        "from datetime import datetime\n",
        "from scipy.stats import norm\n",
        "from scipy.stats import multivariate_normal as mvn\n",
        "from google.colab import drive\n",
        "drive.mount('/content/drive/')"
      ],
      "execution_count": 0,
      "outputs": [
        {
          "output_type": "stream",
          "text": [
            "Go to this URL in a browser: https://accounts.google.com/o/oauth2/auth?client_id=947318989803-6bn6qk8qdgf4n4g3pfee6491hc0brc4i.apps.googleusercontent.com&redirect_uri=urn%3aietf%3awg%3aoauth%3a2.0%3aoob&response_type=code&scope=email%20https%3a%2f%2fwww.googleapis.com%2fauth%2fdocs.test%20https%3a%2f%2fwww.googleapis.com%2fauth%2fdrive%20https%3a%2f%2fwww.googleapis.com%2fauth%2fdrive.photos.readonly%20https%3a%2f%2fwww.googleapis.com%2fauth%2fpeopleapi.readonly\n",
            "\n",
            "Enter your authorization code:\n",
            "··········\n",
            "Mounted at /content/drive/\n"
          ],
          "name": "stdout"
        }
      ]
    },
    {
      "cell_type": "code",
      "metadata": {
        "id": "fb-YRydRF0wK",
        "colab_type": "code",
        "colab": {}
      },
      "source": [
        "def get_data(limit=None):\n",
        "  print(\"Reading in and transforming data...\")\n",
        "  df = pd.read_csv('/content/drive/My Drive/Datasets/KNN/train.csv/train.csv')\n",
        "  data = df.values\n",
        "  np.random.shuffle(data)\n",
        "  X = data[:, 1:] / 255.0 # data is from 0..255\n",
        "  Y = data[:, 0]\n",
        "  if limit is not None:\n",
        "    X, Y = X[:limit], Y[:limit]\n",
        "  return X, Y"
      ],
      "execution_count": 0,
      "outputs": []
    },
    {
      "cell_type": "code",
      "metadata": {
        "id": "N_BmiwQ1F_el",
        "colab_type": "code",
        "colab": {}
      },
      "source": [
        "class Bayes(object):\n",
        "  def fit(self,X,Y,smoothing=10e-3):\n",
        "    N,D=X.shape\n",
        "    self.gaussians=dict()\n",
        "    self.priors=dict()\n",
        "    labels=set(Y)\n",
        "    for c in labels:\n",
        "      current_x=X[Y==c]\n",
        "      self.gaussians[c]={\n",
        "          'mean':current_x.mean(axis=0),\n",
        "          'cov':np.cov(current_x.T) +np.eye(D)+ smoothing,\n",
        "      }\n",
        "      self.priors[c]=float(len(Y[Y==c]))/len(Y)\n",
        "  def score(self,X,Y):\n",
        "    P=self.predict(X)\n",
        "    return np.mean(P==Y)\n",
        "  def predict(self,X):\n",
        "    N,D=X.shape\n",
        "    K=len(self.gaussians)\n",
        "    P=np.zeros((N,K))\n",
        "    for c,g in iteritems(self.gaussians):\n",
        "      mean,cov=g['mean'],g['cov']\n",
        "      P[:,c]=mvn.logpdf(X,mean=mean,cov=cov)+ np.log(self.priors[c])\n",
        "    return np.argmax(P,axis=1)"
      ],
      "execution_count": 0,
      "outputs": []
    },
    {
      "cell_type": "code",
      "metadata": {
        "id": "ALPJe4o_GST3",
        "colab_type": "code",
        "outputId": "31e1ebaf-c0ec-443d-aa60-f965971d5fe1",
        "colab": {
          "base_uri": "https://localhost:8080/",
          "height": 34
        }
      },
      "source": [
        "X,Y=get_data(10000)\n",
        "Ntrain=int(len(Y)/2)\n",
        "Xtrain,Ytrain=X[:Ntrain],Y[:Ntrain]\n",
        "Xtest,Ytest=X[Ntrain:],Y[Ntrain:]\n"
      ],
      "execution_count": 0,
      "outputs": [
        {
          "output_type": "stream",
          "text": [
            "Reading in and transforming data...\n"
          ],
          "name": "stdout"
        }
      ]
    },
    {
      "cell_type": "code",
      "metadata": {
        "id": "ZMUDxEZiGgUQ",
        "colab_type": "code",
        "outputId": "7df5d405-ee42-4a03-a348-b2cd6c6d42e5",
        "colab": {
          "base_uri": "https://localhost:8080/",
          "height": 101
        }
      },
      "source": [
        "model=Bayes()\n",
        "t0=datetime.now()\n",
        "model.fit(Xtrain,Ytrain)\n",
        "print(\"Training time:\",(datetime.now()-t0))\n",
        "t0=datetime.now()\n",
        "print(\"Train Accuracy : \",model.score(Xtrain,Ytrain) )\n",
        "print(\"time to train accuracy\",(datetime.now()-t0),\"\\t Train size:\",len(Ytrain))\n",
        "t0=datetime.now()\n",
        "print(\"Test Accuracy : \",model.score(Xtest,Ytest) )\n",
        "print(\"time to test accuracy\",(datetime.now()-t0),\"\\t Test size:\",len(Ytest))"
      ],
      "execution_count": 0,
      "outputs": [
        {
          "output_type": "stream",
          "text": [
            "Training time: 0:00:00.245040\n",
            "Train Accuracy :  0.9024\n",
            "time to train accuracy 0:00:04.336993 \t Train size: 5000\n",
            "Test Accuracy :  0.8784\n",
            "time to test accuracy 0:00:04.231323 \t Test size: 5000\n"
          ],
          "name": "stdout"
        }
      ]
    },
    {
      "cell_type": "code",
      "metadata": {
        "id": "mC01sBJAGlQ3",
        "colab_type": "code",
        "colab": {}
      },
      "source": [
        ""
      ],
      "execution_count": 0,
      "outputs": []
    }
  ]
}