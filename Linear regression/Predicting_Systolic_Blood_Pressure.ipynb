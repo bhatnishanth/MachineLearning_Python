{
  "nbformat": 4,
  "nbformat_minor": 0,
  "metadata": {
    "colab": {
      "name": "Predicting Systolic Blood Pressure.ipynb",
      "provenance": []
    },
    "kernelspec": {
      "name": "python3",
      "display_name": "Python 3"
    }
  },
  "cells": [
    {
      "cell_type": "markdown",
      "metadata": {
        "id": "O_YhPEVQu4_e",
        "colab_type": "text"
      },
      "source": [
        "*REQUIREMENT*"
      ]
    },
    {
      "cell_type": "code",
      "metadata": {
        "id": "Y_5XbBS6po4H",
        "colab_type": "code",
        "outputId": "a14d4610-be44-4450-f97d-02b373f14f9c",
        "colab": {
          "base_uri": "https://localhost:8080/",
          "height": 54
        }
      },
      "source": [
        "pip install xlrd"
      ],
      "execution_count": 0,
      "outputs": [
        {
          "output_type": "stream",
          "text": [
            "Requirement already satisfied: xlrd in /usr/local/lib/python3.6/dist-packages (1.1.0)\n"
          ],
          "name": "stdout"
        }
      ]
    },
    {
      "cell_type": "markdown",
      "metadata": {
        "id": "Yp9HKngJu8-c",
        "colab_type": "text"
      },
      "source": [
        "Imports"
      ]
    },
    {
      "cell_type": "code",
      "metadata": {
        "id": "UMJG3GrjpklB",
        "colab_type": "code",
        "colab": {}
      },
      "source": [
        "import numpy as np\n",
        "import pandas as pd\n",
        "import matplotlib.pyplot as plt"
      ],
      "execution_count": 0,
      "outputs": []
    },
    {
      "cell_type": "code",
      "metadata": {
        "id": "0Ak4-shkprY1",
        "colab_type": "code",
        "outputId": "73cf1629-4949-4b82-9ba4-44cc479d7ea4",
        "colab": {
          "base_uri": "https://localhost:8080/",
          "height": 121
        }
      },
      "source": [
        "from google.colab import drive\n",
        "drive.mount('/content/drive/')"
      ],
      "execution_count": 0,
      "outputs": [
        {
          "output_type": "stream",
          "text": [
            "Go to this URL in a browser: https://accounts.google.com/o/oauth2/auth?client_id=947318989803-6bn6qk8qdgf4n4g3pfee6491hc0brc4i.apps.googleusercontent.com&redirect_uri=urn%3aietf%3awg%3aoauth%3a2.0%3aoob&response_type=code&scope=email%20https%3a%2f%2fwww.googleapis.com%2fauth%2fdocs.test%20https%3a%2f%2fwww.googleapis.com%2fauth%2fdrive%20https%3a%2f%2fwww.googleapis.com%2fauth%2fdrive.photos.readonly%20https%3a%2f%2fwww.googleapis.com%2fauth%2fpeopleapi.readonly\n",
            "\n",
            "Enter your authorization code:\n",
            "··········\n",
            "Mounted at /content/drive/\n"
          ],
          "name": "stdout"
        }
      ]
    },
    {
      "cell_type": "code",
      "metadata": {
        "id": "s_8yNtpnqCGg",
        "colab_type": "code",
        "outputId": "dd75e2d7-ab1b-4bcd-e9e3-aa07cd32a78b",
        "colab": {
          "base_uri": "https://localhost:8080/",
          "height": 34
        }
      },
      "source": [
        "data=pd.read_excel('/content/drive/My Drive/Datasets/Linear Regression Dataset/mlr02.xls')"
      ],
      "execution_count": 0,
      "outputs": [
        {
          "output_type": "stream",
          "text": [
            "*** No CODEPAGE record, no encoding_override: will use 'ascii'\n"
          ],
          "name": "stdout"
        }
      ]
    },
    {
      "cell_type": "markdown",
      "metadata": {
        "id": "_w8CrWQgu_3p",
        "colab_type": "text"
      },
      "source": [
        "This is how data looks like.<br>\n",
        "X1---> Blood pressure<br>\n",
        "X2---> Age in years<br>\n",
        "X3---> Weight in pounds<br>"
      ]
    },
    {
      "cell_type": "code",
      "metadata": {
        "id": "zH1IFKXOqWyV",
        "colab_type": "code",
        "outputId": "abd7bf29-948d-4c52-8151-f06a35d4c66f",
        "colab": {
          "base_uri": "https://localhost:8080/",
          "height": 373
        }
      },
      "source": [
        "data"
      ],
      "execution_count": 0,
      "outputs": [
        {
          "output_type": "execute_result",
          "data": {
            "text/html": [
              "<div>\n",
              "<style scoped>\n",
              "    .dataframe tbody tr th:only-of-type {\n",
              "        vertical-align: middle;\n",
              "    }\n",
              "\n",
              "    .dataframe tbody tr th {\n",
              "        vertical-align: top;\n",
              "    }\n",
              "\n",
              "    .dataframe thead th {\n",
              "        text-align: right;\n",
              "    }\n",
              "</style>\n",
              "<table border=\"1\" class=\"dataframe\">\n",
              "  <thead>\n",
              "    <tr style=\"text-align: right;\">\n",
              "      <th></th>\n",
              "      <th>X1</th>\n",
              "      <th>X2</th>\n",
              "      <th>X3</th>\n",
              "    </tr>\n",
              "  </thead>\n",
              "  <tbody>\n",
              "    <tr>\n",
              "      <th>0</th>\n",
              "      <td>132</td>\n",
              "      <td>52</td>\n",
              "      <td>173</td>\n",
              "    </tr>\n",
              "    <tr>\n",
              "      <th>1</th>\n",
              "      <td>143</td>\n",
              "      <td>59</td>\n",
              "      <td>184</td>\n",
              "    </tr>\n",
              "    <tr>\n",
              "      <th>2</th>\n",
              "      <td>153</td>\n",
              "      <td>67</td>\n",
              "      <td>194</td>\n",
              "    </tr>\n",
              "    <tr>\n",
              "      <th>3</th>\n",
              "      <td>162</td>\n",
              "      <td>73</td>\n",
              "      <td>211</td>\n",
              "    </tr>\n",
              "    <tr>\n",
              "      <th>4</th>\n",
              "      <td>154</td>\n",
              "      <td>64</td>\n",
              "      <td>196</td>\n",
              "    </tr>\n",
              "    <tr>\n",
              "      <th>5</th>\n",
              "      <td>168</td>\n",
              "      <td>74</td>\n",
              "      <td>220</td>\n",
              "    </tr>\n",
              "    <tr>\n",
              "      <th>6</th>\n",
              "      <td>137</td>\n",
              "      <td>54</td>\n",
              "      <td>188</td>\n",
              "    </tr>\n",
              "    <tr>\n",
              "      <th>7</th>\n",
              "      <td>149</td>\n",
              "      <td>61</td>\n",
              "      <td>188</td>\n",
              "    </tr>\n",
              "    <tr>\n",
              "      <th>8</th>\n",
              "      <td>159</td>\n",
              "      <td>65</td>\n",
              "      <td>207</td>\n",
              "    </tr>\n",
              "    <tr>\n",
              "      <th>9</th>\n",
              "      <td>128</td>\n",
              "      <td>46</td>\n",
              "      <td>167</td>\n",
              "    </tr>\n",
              "    <tr>\n",
              "      <th>10</th>\n",
              "      <td>166</td>\n",
              "      <td>72</td>\n",
              "      <td>217</td>\n",
              "    </tr>\n",
              "  </tbody>\n",
              "</table>\n",
              "</div>"
            ],
            "text/plain": [
              "     X1  X2   X3\n",
              "0   132  52  173\n",
              "1   143  59  184\n",
              "2   153  67  194\n",
              "3   162  73  211\n",
              "4   154  64  196\n",
              "5   168  74  220\n",
              "6   137  54  188\n",
              "7   149  61  188\n",
              "8   159  65  207\n",
              "9   128  46  167\n",
              "10  166  72  217"
            ]
          },
          "metadata": {
            "tags": []
          },
          "execution_count": 9
        }
      ]
    },
    {
      "cell_type": "markdown",
      "metadata": {
        "id": "RpAHzuievV5w",
        "colab_type": "text"
      },
      "source": [
        "Converting data to matrices and adding bias term"
      ]
    },
    {
      "cell_type": "code",
      "metadata": {
        "id": "8CPIPMBNqYs_",
        "colab_type": "code",
        "colab": {}
      },
      "source": [
        "X=np.array([np.ones(data['X2'].shape),data['X2'],data['X3']]).T\n",
        "Y=np.array(data['X1']).T"
      ],
      "execution_count": 0,
      "outputs": []
    },
    {
      "cell_type": "markdown",
      "metadata": {
        "id": "iK84Nxdlvbda",
        "colab_type": "text"
      },
      "source": [
        "Visualising data:<br>\n",
        "\n",
        "\n",
        "*   Blood pressure VS Age\n",
        "*   Blood pressure VS Weight\n",
        "\n"
      ]
    },
    {
      "cell_type": "code",
      "metadata": {
        "id": "ayiuOq0jrHSJ",
        "colab_type": "code",
        "outputId": "212e7467-6374-4721-947c-75a365887134",
        "colab": {
          "base_uri": "https://localhost:8080/",
          "height": 549
        }
      },
      "source": [
        "plt.scatter(X[:,1],Y,color=\"cyan\")\n",
        "plt.xlabel('Age in years')\n",
        "plt.ylabel('Blood pressure')\n",
        "plt.show()\n",
        "plt.scatter(X[:,2],Y,color=\"cyan\")\n",
        "plt.xlabel('Weight in pounds')\n",
        "plt.ylabel('Blood pressure')\n",
        "plt.show()"
      ],
      "execution_count": 0,
      "outputs": [
        {
          "output_type": "display_data",
          "data": {
            "image/png": "[encoded data removed]",
            "text/plain": [
              "<Figure size 432x288 with 1 Axes>"
            ]
          },
          "metadata": {
            "tags": [],
            "needs_background": "light"
          }
        },
        {
          "output_type": "display_data",
          "data": {
            "image/png": "[encoded data removed]",
            "text/plain": [
              "<Figure size 432x288 with 1 Axes>"
            ]
          },
          "metadata": {
            "tags": [],
            "needs_background": "light"
          }
        }
      ]
    },
    {
      "cell_type": "markdown",
      "metadata": {
        "id": "a9KIqHLxvmv9",
        "colab_type": "text"
      },
      "source": [
        "We are going to see how it will affect accuracy <br>\n",
        "\n",
        "\n",
        "1.   By only using Weight as a feature\n",
        "2.   By only using age as an feature\n",
        "<li> By using both features age and weight</li>\n",
        "\n",
        "\n",
        "\n"
      ]
    },
    {
      "cell_type": "code",
      "metadata": {
        "id": "WWTZnfs9rUN2",
        "colab_type": "code",
        "colab": {}
      },
      "source": [
        "X2only=np.array([np.ones(data['X2'].shape),data['X2']]).T\n",
        "X3only=np.array([np.ones(data['X3'].shape),data['X3']]).T\n"
      ],
      "execution_count": 0,
      "outputs": []
    },
    {
      "cell_type": "markdown",
      "metadata": {
        "id": "O44wjESBwI2E",
        "colab_type": "text"
      },
      "source": [
        "**get_r2(X,Y)**<br>\n",
        "return the r-sqaured value"
      ]
    },
    {
      "cell_type": "code",
      "metadata": {
        "id": "bQhncbhisWgY",
        "colab_type": "code",
        "colab": {}
      },
      "source": [
        "def get_r2(X,Y):\n",
        "  W=np.linalg.solve(np.dot(X.T,X),np.dot(X.T,Y))\n",
        "  Yhat=X.dot(W)\n",
        "  d1=Y-Yhat\n",
        "  d2=Y-Y.mean()\n",
        "  r2=1-(d1.dot(d1)/d2.dot(d2))\n",
        "  return r2\n"
      ],
      "execution_count": 0,
      "outputs": []
    },
    {
      "cell_type": "markdown",
      "metadata": {
        "id": "-xyv4TQgwRbW",
        "colab_type": "text"
      },
      "source": [
        "Displaying accuracy"
      ]
    },
    {
      "cell_type": "code",
      "metadata": {
        "id": "1liY3Ra-sttK",
        "colab_type": "code",
        "outputId": "2b0361b3-c5c3-4753-e524-44cfa5737348",
        "colab": {
          "base_uri": "https://localhost:8080/",
          "height": 67
        }
      },
      "source": [
        "print(\"R-squared for only age: \",get_r2(X2only,Y))\n",
        "print(\"R-squared for only weight: \",get_r2(X3only,Y))\n",
        "print(\"R-squared for both age and weight : \",get_r2(X,Y))"
      ],
      "execution_count": 0,
      "outputs": [
        {
          "output_type": "stream",
          "text": [
            "R-squared for only age:  0.9578407208147355\n",
            "R-squared for only weight:  0.9419952085293064\n",
            "R-squared for both age and weight :  0.9768471041502091\n"
          ],
          "name": "stdout"
        }
      ]
    },
    {
      "cell_type": "code",
      "metadata": {
        "id": "uC6j3URYtCXj",
        "colab_type": "code",
        "colab": {}
      },
      "source": [
        ""
      ],
      "execution_count": 0,
      "outputs": []
    }
  ]
}