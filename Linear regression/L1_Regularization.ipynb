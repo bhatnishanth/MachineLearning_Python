{
  "nbformat": 4,
  "nbformat_minor": 0,
  "metadata": {
    "colab": {
      "name": "L1 Regularization.ipynb",
      "provenance": []
    },
    "kernelspec": {
      "name": "python3",
      "display_name": "Python 3"
    }
  },
  "cells": [
    {
      "cell_type": "markdown",
      "metadata": {
        "id": "ebIJ36CXzEOU",
        "colab_type": "text"
      },
      "source": [
        "<h1>**L1 Regularisation is also called as LASSO REGRESSION**</h1>"
      ]
    },
    {
      "cell_type": "markdown",
      "metadata": {
        "id": "COyAOoN1xu6d",
        "colab_type": "text"
      },
      "source": [
        "Imports"
      ]
    },
    {
      "cell_type": "code",
      "metadata": {
        "id": "edcLqvLQYbXZ",
        "colab_type": "code",
        "colab": {}
      },
      "source": [
        "import numpy as np\n",
        "import matplotlib.pyplot as plt"
      ],
      "execution_count": 0,
      "outputs": []
    },
    {
      "cell_type": "markdown",
      "metadata": {
        "id": "mbkZ8NF5xwd2",
        "colab_type": "text"
      },
      "source": [
        "No of features= 50 (D)\n",
        "No of sample = 50 (N)"
      ]
    },
    {
      "cell_type": "code",
      "metadata": {
        "id": "4woUQ9aAYjui",
        "colab_type": "code",
        "colab": {}
      },
      "source": [
        "N=50\n",
        "D=50"
      ],
      "execution_count": 0,
      "outputs": []
    },
    {
      "cell_type": "markdown",
      "metadata": {
        "id": "1oGEKNqqx2Yy",
        "colab_type": "text"
      },
      "source": [
        "Creating data (also adding noise to it)"
      ]
    },
    {
      "cell_type": "code",
      "metadata": {
        "id": "kXFRAi8NYyX9",
        "colab_type": "code",
        "colab": {}
      },
      "source": [
        "X = (np.random.random((N, D)) - 0.5)*10\n",
        "true_w=np.array([1,0.5,-0.5]+[0]*(D-3))\n",
        "Y=X.dot(true_w) + np.random.randn(N)*0.5"
      ],
      "execution_count": 0,
      "outputs": []
    },
    {
      "cell_type": "markdown",
      "metadata": {
        "id": "3v-8PN5ox_Ig",
        "colab_type": "text"
      },
      "source": [
        "Applying Gradient Descent with slight improvement<br>\n",
        "W=w-alpha*(XT * delta + l1*sign(w))<br>\n",
        "l1*sign(w)--> Extra added term.<br>\n",
        "sign(w)=1 if w>0 ; -1 if w<0 ; 0 if w==0"
      ]
    },
    {
      "cell_type": "code",
      "metadata": {
        "id": "gJOqcfG6ZMvx",
        "colab_type": "code",
        "colab": {}
      },
      "source": [
        "cost=[]\n",
        "w=np.random.randn(D)/np.sqrt(D)\n",
        "alpha=0.001\n",
        "l1=10.0\n",
        "for t in range(500):\n",
        "  Yhat=X.dot(w)\n",
        "  delta=Yhat-Y\n",
        "  w=w-alpha*(X.T.dot(delta)+l1*np.sign(w))\n",
        "  mse=delta.dot(delta)/N\n",
        "  cost.append(mse)"
      ],
      "execution_count": 0,
      "outputs": []
    },
    {
      "cell_type": "code",
      "metadata": {
        "id": "YaZ4l8MrcVun",
        "colab_type": "code",
        "colab": {}
      },
      "source": [
        ""
      ],
      "execution_count": 0,
      "outputs": []
    },
    {
      "cell_type": "markdown",
      "metadata": {
        "id": "iBn_OErMy2rM",
        "colab_type": "text"
      },
      "source": [
        "Plotting cost function"
      ]
    },
    {
      "cell_type": "code",
      "metadata": {
        "id": "K5kFhdpuZ1QC",
        "colab_type": "code",
        "outputId": "7c3b1345-b45a-49cc-ad92-3facb0ed5f90",
        "colab": {
          "base_uri": "https://localhost:8080/",
          "height": 265
        }
      },
      "source": [
        "plt.plot(cost)\n",
        "plt.show()\n"
      ],
      "execution_count": 0,
      "outputs": [
        {
          "output_type": "display_data",
          "data": {
            "image/png": "[encoded data removed]",
            "text/plain": [
              "<Figure size 432x288 with 1 Axes>"
            ]
          },
          "metadata": {
            "tags": [],
            "needs_background": "light"
          }
        }
      ]
    },
    {
      "cell_type": "markdown",
      "metadata": {
        "id": "37-02MAAy_hl",
        "colab_type": "text"
      },
      "source": [
        "Comparing true_w and w "
      ]
    },
    {
      "cell_type": "code",
      "metadata": {
        "id": "y4qfTBIhagnM",
        "colab_type": "code",
        "outputId": "113bc705-2aa8-4af9-c040-a74139c7e424",
        "colab": {
          "base_uri": "https://localhost:8080/",
          "height": 483
        }
      },
      "source": [
        "print(\"w: \",w)\n",
        "plt.plot(true_w,label='true w')\n",
        "plt.plot(w,label='w_map')\n",
        "plt.legend()\n",
        "plt.show()"
      ],
      "execution_count": 0,
      "outputs": [
        {
          "output_type": "stream",
          "text": [
            "w:  [ 9.50709956e-01  4.03206196e-01 -4.43484897e-01  4.31004449e-02\n",
            "  6.53372169e-03 -1.60309763e-02 -1.57164768e-03  1.52310784e-03\n",
            "  2.53503566e-02 -3.92779976e-02 -1.53133157e-02 -3.96580385e-03\n",
            "  8.26720086e-03 -9.49738138e-03  1.59524406e-02 -4.84652871e-02\n",
            "  3.89722206e-03 -1.08708007e-02 -1.05564596e-02 -2.14296223e-04\n",
            "  3.49842669e-02  3.03808605e-02  2.14275850e-03  1.94295791e-02\n",
            "  6.49380273e-02 -5.82053614e-03  4.41414837e-02  5.83043743e-03\n",
            "  1.12531322e-02  5.02942213e-03  1.83975528e-02 -1.79162659e-02\n",
            " -3.85244604e-03 -3.04066503e-02 -1.86605424e-02  1.78828835e-02\n",
            "  3.42069387e-02 -1.78036636e-02  2.38915071e-02  1.58454540e-03\n",
            " -2.77778357e-02  2.69634353e-02  3.35423966e-03 -2.96226449e-02\n",
            " -4.20581051e-03 -3.42013364e-02  1.04556666e-03 -9.28248441e-03\n",
            "  2.64044827e-02 -3.80120534e-03]\n"
          ],
          "name": "stdout"
        },
        {
          "output_type": "display_data",
          "data": {
            "image/png": "[encoded data removed]",
            "text/plain": [
              "<Figure size 432x288 with 1 Axes>"
            ]
          },
          "metadata": {
            "tags": [],
            "needs_background": "light"
          }
        }
      ]
    },
    {
      "cell_type": "code",
      "metadata": {
        "id": "kMDWNm6wbsJ-",
        "colab_type": "code",
        "colab": {}
      },
      "source": [
        ""
      ],
      "execution_count": 0,
      "outputs": []
    }
  ]
}