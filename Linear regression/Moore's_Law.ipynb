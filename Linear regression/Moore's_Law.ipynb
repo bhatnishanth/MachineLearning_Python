{
  "nbformat": 4,
  "nbformat_minor": 0,
  "metadata": {
    "colab": {
      "name": "Moore's Law.ipynb",
      "provenance": []
    },
    "kernelspec": {
      "name": "python3",
      "display_name": "Python 3"
    }
  },
  "cells": [
    {
      "cell_type": "markdown",
      "metadata": {
        "id": "S03xtNTbqhnY",
        "colab_type": "text"
      },
      "source": [
        "**<h1>Imports</h1>**"
      ]
    },
    {
      "cell_type": "code",
      "metadata": {
        "id": "_7lc0-LeW3rI",
        "colab_type": "code",
        "colab": {}
      },
      "source": [
        "import numpy as np\n",
        "import re\n",
        "import pandas as pd\n",
        "import matplotlib.pyplot as plt"
      ],
      "execution_count": 0,
      "outputs": []
    },
    {
      "cell_type": "markdown",
      "metadata": {
        "id": "2LX3PrCnqobO",
        "colab_type": "text"
      },
      "source": [
        "**Mounting google drive on colab.\n",
        "for Jupyter users',  they can skip this step and download dataset and can go to next step**"
      ]
    },
    {
      "cell_type": "code",
      "metadata": {
        "id": "7_x4rZ6xXEfG",
        "colab_type": "code",
        "outputId": "0ac4af0d-6929-43ec-c0e3-eb8938ea37c4",
        "colab": {
          "base_uri": "https://localhost:8080/",
          "height": 54
        }
      },
      "source": [
        "from google.colab import drive\n",
        "drive.mount('/content/drive/')\n"
      ],
      "execution_count": 0,
      "outputs": [
        {
          "output_type": "stream",
          "text": [
            "Drive already mounted at /content/drive/; to attempt to forcibly remount, call drive.mount(\"/content/drive/\", force_remount=True).\n"
          ],
          "name": "stdout"
        }
      ]
    },
    {
      "cell_type": "markdown",
      "metadata": {
        "id": "-g9ZHFPSq6gT",
        "colab_type": "text"
      },
      "source": [
        "**<h1>Data preprocessing</h1>**"
      ]
    },
    {
      "cell_type": "code",
      "metadata": {
        "id": "jRo04PgBYdxx",
        "colab_type": "code",
        "colab": {}
      },
      "source": [
        "X=[]\n",
        "Y=[]\n",
        "non_decimal=re.compile(r'[^\\d]+')"
      ],
      "execution_count": 0,
      "outputs": []
    },
    {
      "cell_type": "code",
      "metadata": {
        "id": "qqjj5KewZDAa",
        "colab_type": "code",
        "colab": {}
      },
      "source": [
        "for line in open('/content/drive/My Drive/Datasets/Linear Regression Dataset/moore.txt'):\n",
        "  r=line.split('\\t')\n",
        "  x=int(non_decimal.sub('',r[2].split('[')[0]))\n",
        "  y=int(non_decimal.sub('',r[1].split('[')[0]))\n",
        "  X.append(x)\n",
        "  Y.append(y)\n"
      ],
      "execution_count": 0,
      "outputs": []
    },
    {
      "cell_type": "code",
      "metadata": {
        "id": "6Blx0wnzZtym",
        "colab_type": "code",
        "colab": {}
      },
      "source": [
        " X=np.array(X)\n",
        " Y=np.array(Y)"
      ],
      "execution_count": 0,
      "outputs": []
    },
    {
      "cell_type": "markdown",
      "metadata": {
        "id": "-zkY4p9ErAYt",
        "colab_type": "text"
      },
      "source": [
        "**Visualizing the data**"
      ]
    },
    {
      "cell_type": "code",
      "metadata": {
        "id": "aGbd_k3WZ8M7",
        "colab_type": "code",
        "outputId": "dc320aee-681f-4a96-f048-65800e45244d",
        "colab": {
          "base_uri": "https://localhost:8080/",
          "height": 276
        }
      },
      "source": [
        "plt.scatter(X,Y,color=\"green\")\n",
        "plt.show()"
      ],
      "execution_count": 0,
      "outputs": [
        {
          "output_type": "display_data",
          "data": {
            "image/png": "[encoded data removed]",
            "text/plain": [
              "<Figure size 432x288 with 1 Axes>"
            ]
          },
          "metadata": {
            "tags": [],
            "needs_background": "light"
          }
        }
      ]
    },
    {
      "cell_type": "code",
      "metadata": {
        "id": "IYlVyuIvaAIw",
        "colab_type": "code",
        "outputId": "c236f062-a3c5-4283-d0ad-ea7d56373169",
        "colab": {
          "base_uri": "https://localhost:8080/",
          "height": 265
        }
      },
      "source": [
        "plt.scatter(X,np.log(Y),color='cyan')\n",
        "plt.show()"
      ],
      "execution_count": 0,
      "outputs": [
        {
          "output_type": "display_data",
          "data": {
            "image/png": "[encoded data removed]",
            "text/plain": [
              "<Figure size 432x288 with 1 Axes>"
            ]
          },
          "metadata": {
            "tags": [],
            "needs_background": "light"
          }
        }
      ]
    },
    {
      "cell_type": "markdown",
      "metadata": {
        "id": "p66I6VHyrIJC",
        "colab_type": "text"
      },
      "source": [
        "**Calculation of yhat**<br>\n",
        "we calculate this by using **Normalisation** equation"
      ]
    },
    {
      "cell_type": "code",
      "metadata": {
        "id": "KCfN0BWHaQqk",
        "colab_type": "code",
        "colab": {}
      },
      "source": [
        " Y=np.log(Y)\n",
        " denom=X.dot(X) -X.mean()*X.sum()"
      ],
      "execution_count": 0,
      "outputs": []
    },
    {
      "cell_type": "code",
      "metadata": {
        "id": "isxJtHT8afFy",
        "colab_type": "code",
        "colab": {}
      },
      "source": [
        "a=(X.dot(Y) -Y.mean()*X.sum())/denom\n",
        "b=(Y.mean()*X.dot(X) - X.mean()*X.dot(Y))/denom\n",
        "Yhat=a*X+b\n"
      ],
      "execution_count": 0,
      "outputs": []
    },
    {
      "cell_type": "markdown",
      "metadata": {
        "id": "0fmDT88urXwv",
        "colab_type": "text"
      },
      "source": [
        "<h2>Plotting the line of best fit</h2>"
      ]
    },
    {
      "cell_type": "code",
      "metadata": {
        "id": "SuHw8prXbCUS",
        "colab_type": "code",
        "outputId": "436230d5-a52d-4425-8dff-7deb83518c09",
        "colab": {
          "base_uri": "https://localhost:8080/",
          "height": 265
        }
      },
      "source": [
        "plt.scatter(X,Y,color=\"cyan\")\n",
        "plt.plot(X,Yhat,color=\"red\")\n",
        "plt.show()"
      ],
      "execution_count": 0,
      "outputs": [
        {
          "output_type": "display_data",
          "data": {
            "image/png": "[encoded data removed]",
            "text/plain": [
              "<Figure size 432x288 with 1 Axes>"
            ]
          },
          "metadata": {
            "tags": [],
            "needs_background": "light"
          }
        }
      ]
    },
    {
      "cell_type": "markdown",
      "metadata": {
        "id": "mn_a4-cEreUZ",
        "colab_type": "text"
      },
      "source": [
        "**Accuracy [R-squared]**"
      ]
    },
    {
      "cell_type": "code",
      "metadata": {
        "id": "1TRfkj2EbL6i",
        "colab_type": "code",
        "outputId": "1341d935-afb5-4e93-ffbb-f6310471b157",
        "colab": {
          "base_uri": "https://localhost:8080/",
          "height": 34
        }
      },
      "source": [
        " d1=Y-Yhat\n",
        " d2=Y-Y.mean()\n",
        " r2=1-(d1.dot(d1)/d2.dot(d2))\n",
        " print(\"Accuracy: \",r2)"
      ],
      "execution_count": 0,
      "outputs": [
        {
          "output_type": "stream",
          "text": [
            "Accuracy:  0.9529442852285758\n"
          ],
          "name": "stdout"
        }
      ]
    },
    {
      "cell_type": "markdown",
      "metadata": {
        "id": "ZeeKxgbwrpVK",
        "colab_type": "text"
      },
      "source": [
        "Corelation in the data.<br>\n",
        "We find out that, every 2 years the number of transistors is doubled in the processor"
      ]
    },
    {
      "cell_type": "code",
      "metadata": {
        "id": "VI0GXvj3be64",
        "colab_type": "code",
        "outputId": "4187b301-ede1-4448-cb13-d15ac25427e4",
        "colab": {
          "base_uri": "https://localhost:8080/",
          "height": 34
        }
      },
      "source": [
        "# log(tc)=a*year+b\n",
        "# tc=exp(b)*exp(a*year)\n",
        "#2*tc=2*exp(b)*exp(a*year) = exp(ln(2))*exp(b)*exp(a*year)\n",
        "#     exp(b)*exp(a*year+ln(2))\n",
        "\n",
        "print(\"Time to double: \",np.log(2)/a,\"years\")\n"
      ],
      "execution_count": 0,
      "outputs": [
        {
          "output_type": "stream",
          "text": [
            "Time to double:  1.974533172379868 years\n"
          ],
          "name": "stdout"
        }
      ]
    },
    {
      "cell_type": "code",
      "metadata": {
        "id": "-3I9l0O2dWyf",
        "colab_type": "code",
        "colab": {}
      },
      "source": [
        ""
      ],
      "execution_count": 0,
      "outputs": []
    }
  ]
}