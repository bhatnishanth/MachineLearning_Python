{
 "cells": [
  {
   "cell_type": "markdown",
   "metadata": {
    "colab_type": "text",
    "id": "eLph3aYBjaqb"
   },
   "source": [
    "Imports"
   ]
  },
  {
   "cell_type": "code",
   "execution_count": 0,
   "metadata": {
    "colab": {},
    "colab_type": "code",
    "id": "nz2tMIBejUQy"
   },
   "outputs": [],
   "source": [
    "import numpy as np\n",
    "import matplotlib.pyplot as plt\n"
   ]
  },
  {
   "cell_type": "markdown",
   "metadata": {
    "colab_type": "text",
    "id": "w_tbglcIjsUS"
   },
   "source": [
    "Data (For addition)"
   ]
  },
  {
   "cell_type": "code",
   "execution_count": 0,
   "metadata": {
    "colab": {},
    "colab_type": "code",
    "id": "QkWBjxbOIg0u"
   },
   "outputs": [],
   "source": [
    "X=np.array([(1,3,5),(2,4,6)])\n",
    "y=np.array([[3,7,11]])"
   ]
  },
  {
   "cell_type": "markdown",
   "metadata": {
    "colab_type": "text",
    "id": "K8GRk4lgjy9T"
   },
   "source": [
    "**Initialising weights**"
   ]
  },
  {
   "cell_type": "code",
   "execution_count": 0,
   "metadata": {
    "colab": {},
    "colab_type": "code",
    "id": "pyT1QsEaJOSJ"
   },
   "outputs": [],
   "source": [
    "theta=np.array([(10,20)])\n",
    "m=3"
   ]
  },
  {
   "cell_type": "markdown",
   "metadata": {
    "colab_type": "text",
    "id": "38cdN5UgkDur"
   },
   "source": [
    "**Training Using Gradient Descent** \n",
    "\n",
    "\n",
    "*   Calculation of Cost function, gradient of the cost function and updating the value of weights\n",
    "\n",
    "\n",
    "\n",
    "\n",
    "\n"
   ]
  },
  {
   "cell_type": "code",
   "execution_count": 0,
   "metadata": {
    "colab": {
     "base_uri": "https://localhost:8080/",
     "height": 622
    },
    "colab_type": "code",
    "id": "wCvtTXguJdMH",
    "outputId": "854fc261-d15a-4c3f-cd05-a663a7f69f13"
   },
   "outputs": [
    {
     "name": "stdout",
     "output_type": "stream",
     "text": [
      "Hypothesis: [[ 50 110 170]]\n",
      "J_theta=  [ 368.16666667 1768.16666667 4213.5       ]\n",
      "theta=  [[ 8.849 18.54 ]]\n",
      "**********\n",
      "Hypothesis: [[ 3.15185946  7.04138847 10.93091748]]\n",
      "J_theta=  [0.00384355 0.0002855  0.0007954 ]\n",
      "theta=  [[0.73773893 1.20704018]]\n",
      "**********\n",
      "Hypothesis: [[ 3.01077851  7.00293763 10.99509674]]\n",
      "J_theta=  [1.93627292e-05 1.43827390e-06 4.00699895e-06]\n",
      "theta=  [[0.98138552 1.01469507]]\n",
      "**********\n",
      "Hypothesis: [[ 3.00076503  7.0002085  10.99965198]]\n",
      "J_theta=  [9.75440258e-08 7.24562250e-09 2.01861424e-08]\n",
      "theta=  [[0.9986788  1.00104301]]\n",
      "**********\n",
      "Hypothesis: [[ 3.0000543  7.0000148 10.9999753]]\n",
      "J_theta=  [4.91399579e-10 3.65014241e-11 1.01692152e-10]\n",
      "theta=  [[0.99990623 1.00007403]]\n",
      "**********\n",
      "Hypothesis: [[ 3.00000385  7.00000105 10.99999825]]\n",
      "J_theta=  [2.47553394e-12 1.83883987e-13 5.12296679e-13]\n",
      "theta=  [[0.99999334 1.00000525]]\n",
      "**********\n",
      "Hypothesis: [[ 3.00000027  7.00000007 10.99999988]]\n",
      "J_theta=  [1.24710491e-14 9.26356210e-16 2.58080770e-15]\n",
      "theta=  [[0.99999953 1.00000037]]\n",
      "**********\n",
      "Hypothesis: [[ 3.00000002  7.00000001 10.99999999]]\n",
      "J_theta=  [6.28256689e-17 4.66672415e-18 1.30013891e-17]\n",
      "theta=  [[0.99999997 1.00000003]]\n",
      "**********\n",
      "Hypothesis: [[ 3.  7. 11.]]\n",
      "J_theta=  [3.16497364e-19 2.35095571e-20 6.54971400e-20]\n",
      "theta=  [[1. 1.]]\n",
      "**********\n"
     ]
    }
   ],
   "source": [
    "alpha=0.003\n",
    "for i in range(90000):\n",
    "  h=theta.dot(X)\n",
    "  error=h-y\n",
    "  J=(1/(2*m))*sum(error**2)\n",
    "  delta=error.dot(X.T)\n",
    "  theta=theta - (alpha/m)*delta\n",
    "  if(i%10000==0):\n",
    "    print(\"Hypothesis:\", h)\n",
    "    print(\"J_theta= \",J )\n",
    "    print(\"theta= \",theta)\n",
    "    print(\"**********\")"
   ]
  },
  {
   "cell_type": "markdown",
   "metadata": {
    "colab_type": "text",
    "id": "qbs2L5i7kuAb"
   },
   "source": [
    "Predict(): Predicts the value on user inputs"
   ]
  },
  {
   "cell_type": "code",
   "execution_count": 0,
   "metadata": {
    "colab": {},
    "colab_type": "code",
    "id": "nNYtENNngfHm"
   },
   "outputs": [],
   "source": [
    "def predict(x1,x2,t):\n",
    "  x=np.array([(x1,x2)])\n",
    "  ans=t.dot(x.T)\n",
    "  print(ans.size)\n",
    "  a=ans[0]\n",
    "  return a\n"
   ]
  },
  {
   "cell_type": "code",
   "execution_count": 0,
   "metadata": {
    "colab": {
     "base_uri": "https://localhost:8080/",
     "height": 84
    },
    "colab_type": "code",
    "id": "ygS6GcKrgyaA",
    "outputId": "1910ec44-5e37-4f2e-9475-22676531ee06"
   },
   "outputs": [
    {
     "name": "stdout",
     "output_type": "stream",
     "text": [
      "Enter a number50\n",
      "Enter a number50\n",
      "1\n",
      "[100.]\n"
     ]
    }
   ],
   "source": [
    "a=int(input(\"Enter a number\"))\n",
    "b=int(input(\"Enter a number\"))\n",
    "answer=predict(a,b,theta)\n",
    "print(answer)"
   ]
  },
  {
   "cell_type": "code",
   "execution_count": 0,
   "metadata": {
    "colab": {
     "base_uri": "https://localhost:8080/",
     "height": 279
    },
    "colab_type": "code",
    "id": "0Qa8remRg0uW",
    "outputId": "986746cd-0d9e-45f6-ae9b-940c6bca2965"
   },
   "outputs": [
    {
     "data": {
      "image/png": "[encoded data removed]",
      "text/plain": [
       "<Figure size 432x288 with 1 Axes>"
      ]
     },
     "metadata": {
      "needs_background": "light",
      "tags": []
     },
     "output_type": "display_data"
    }
   ],
   "source": [
    "x1=np.array(X[0,:])\n",
    "x2=np.array(X[1,:])\n",
    "plt.plot(x1,x2,'rx')\n",
    "#plt.plot(theta)\n",
    "plt.xlabel(\"X1\")\n",
    "plt.ylabel(\"X2\")\n",
    "plt.show()"
   ]
  },
  {
   "cell_type": "markdown",
   "metadata": {
    "colab_type": "text",
    "id": "1Yj-0o6BmR5c"
   },
   "source": [
    "**FOR SUBTRACTION**"
   ]
  },
  {
   "cell_type": "code",
   "execution_count": 0,
   "metadata": {
    "colab": {},
    "colab_type": "code",
    "id": "oxSvcdQ1lw-g"
   },
   "outputs": [],
   "source": [
    "X1=np.array([(1,3,5),(2,4,6)])\n",
    "y1=np.array([[-1,-1,-1]])\n",
    "theta1=np.array([(10,20)])\n"
   ]
  },
  {
   "cell_type": "code",
   "execution_count": 0,
   "metadata": {
    "colab": {
     "base_uri": "https://localhost:8080/",
     "height": 622
    },
    "colab_type": "code",
    "id": "U-7VC3v-l-ff",
    "outputId": "b6b62d57-a877-47bc-c7ca-3865b475003a"
   },
   "outputs": [
    {
     "name": "stdout",
     "output_type": "stream",
     "text": [
      "Hypothesis: [[ 50 110 170]]\n",
      "J_theta=  [ 433.5 2053.5 4873.5]\n",
      "theta=  [[ 8.761 18.428]]\n",
      "**********\n",
      "Hypothesis: [[-0.8081752  -0.94771919 -1.08726319]]\n",
      "J_theta=  [0.00613279 0.00045555 0.00126914]\n",
      "theta=  [[ 0.66871885 -0.73847239]]\n",
      "**********\n",
      "Hypothesis: [[-0.98638487 -0.99628927 -1.00619367]]\n",
      "J_theta=  [3.08952974e-05 2.29491925e-06 6.39359376e-06]\n",
      "theta=  [[ 0.97648669 -0.98143758]]\n",
      "**********\n",
      "Hypothesis: [[-0.99903364 -0.99973662 -1.00043961]]\n",
      "J_theta=  [1.55641886e-07 1.15611627e-08 3.22091410e-08]\n",
      "theta=  [[ 0.9983311 -0.9986825]]\n",
      "**********\n",
      "Hypothesis: [[-0.99993141 -0.99998131 -1.0000312 ]]\n",
      "J_theta=  [7.84080386e-10 5.82419112e-11 1.62260663e-10]\n",
      "theta=  [[ 0.99988155 -0.99990649]]\n",
      "**********\n",
      "Hypothesis: [[-0.99999513 -0.99999867 -1.00000221]]\n",
      "J_theta=  [3.94997816e-12 2.93406494e-13 8.17423938e-13]\n",
      "theta=  [[ 0.99999159 -0.99999336]]\n",
      "**********\n",
      "Hypothesis: [[-0.99999965 -0.99999991 -1.00000016]]\n",
      "J_theta=  [1.98988876e-14 1.47810003e-15 4.11795368e-15]\n",
      "theta=  [[ 0.9999994  -0.99999953]]\n",
      "**********\n",
      "Hypothesis: [[-0.99999998 -0.99999999 -1.00000001]]\n",
      "J_theta=  [1.00245034e-16 7.44625507e-18 2.07450996e-17]\n",
      "theta=  [[ 0.99999996 -0.99999997]]\n",
      "**********\n",
      "Hypothesis: [[-1. -1. -1.]]\n",
      "J_theta=  [5.05006098e-19 3.75121178e-20 1.04507723e-19]\n",
      "theta=  [[ 1. -1.]]\n",
      "**********\n"
     ]
    }
   ],
   "source": [
    "a=0.003\n",
    "for i in range(90000):\n",
    "  h=theta1.dot(X1)\n",
    "  error=h-y1\n",
    "  J=(1/(2*m))*sum(error**2)\n",
    "  delta=error.dot(X1.T)\n",
    "  theta1=theta1 - (alpha/m)*delta\n",
    "  if(i%10000==0):\n",
    "    print(\"Hypothesis:\", h)\n",
    "    print(\"J_theta= \",J )\n",
    "    print(\"theta= \",theta1)\n",
    "    print(\"**********\")"
   ]
  },
  {
   "cell_type": "code",
   "execution_count": 0,
   "metadata": {
    "colab": {
     "base_uri": "https://localhost:8080/",
     "height": 118
    },
    "colab_type": "code",
    "id": "zObTpuWUmGKr",
    "outputId": "0d3faad2-3848-4a34-9d27-9ba5d417337a"
   },
   "outputs": [
    {
     "name": "stdout",
     "output_type": "stream",
     "text": [
      " Enter a number9\n",
      " Enter a number18\n",
      "[[ 9 18]]\n",
      "2\n",
      "1\n",
      "[-9.]\n"
     ]
    }
   ],
   "source": [
    "a=int(input(\" Enter a number\"))\n",
    "b=int(input(\" Enter a number\"))\n",
    "answer=predict(a,b,theta1)\n",
    "print(answer)"
   ]
  },
  {
   "cell_type": "markdown",
   "metadata": {
    "colab_type": "text",
    "id": "jClCvxa1nueX"
   },
   "source": [
    "###Linear regression using Normal Equation"
   ]
  },
  {
   "cell_type": "code",
   "execution_count": 0,
   "metadata": {
    "colab": {},
    "colab_type": "code",
    "id": "Gga3bhJ_mNKa"
   },
   "outputs": [],
   "source": [
    "X3=np.array([(1,3,5),(2,4,6)])\n",
    "y3=np.array([[3,7,11]])"
   ]
  },
  {
   "cell_type": "code",
   "execution_count": 0,
   "metadata": {
    "colab": {},
    "colab_type": "code",
    "id": "yT2kN8JImoTE"
   },
   "outputs": [],
   "source": [
    "inv=np.linalg.pinv(X3.T.dot(X3))\n",
    "normal_eqn=inv.dot(X3.T)\n",
    "result=y3.dot(normal_eqn)"
   ]
  },
  {
   "cell_type": "code",
   "execution_count": 0,
   "metadata": {
    "colab": {
     "base_uri": "https://localhost:8080/",
     "height": 118
    },
    "colab_type": "code",
    "id": "le-aCgFWm7A3",
    "outputId": "2844b854-4859-4dc7-abd8-539f1744fee2"
   },
   "outputs": [
    {
     "name": "stdout",
     "output_type": "stream",
     "text": [
      " Enter a number5\n",
      " Enter a number6\n",
      "[[5 6]]\n",
      "2\n",
      "1\n",
      "[11.]\n"
     ]
    }
   ],
   "source": [
    "a=int(input(\" Enter a number\"))\n",
    "b=int(input(\" Enter a number\"))\n",
    "answer=predict(a,b,result)\n",
    "print(answer)"
   ]
  },
  {
   "cell_type": "markdown",
   "metadata": {
    "colab_type": "text",
    "id": "WIL8P8F5lU2o"
   },
   "source": [
    "###Linear regression \n",
    "Using population vs profit dataset. X- population Y- profit\n",
    "After training it'll predict profit on basis of population"
   ]
  },
  {
   "cell_type": "code",
   "execution_count": 0,
   "metadata": {
    "colab": {},
    "colab_type": "code",
    "id": "g-2gW_cVnrd7"
   },
   "outputs": [],
   "source": [
    "import pandas as pd\n",
    "import matplotlib.pyplot as plt\n",
    "import numpy as np"
   ]
  },
  {
   "cell_type": "markdown",
   "metadata": {
    "colab_type": "text",
    "id": "93R86cP2lb7p"
   },
   "source": [
    "Mounting dataset from google drive"
   ]
  },
  {
   "cell_type": "code",
   "execution_count": 2,
   "metadata": {
    "colab": {
     "base_uri": "https://localhost:8080/",
     "height": 121
    },
    "colab_type": "code",
    "id": "vGTO8c6HppBl",
    "outputId": "90832a4c-7af6-4928-fea8-3f9d53f485e4"
   },
   "outputs": [
    {
     "name": "stdout",
     "output_type": "stream",
     "text": [
      "Go to this URL in a browser: https://accounts.google.com/o/oauth2/auth?client_id=947318989803-6bn6qk8qdgf4n4g3pfee6491hc0brc4i.apps.googleusercontent.com&redirect_uri=urn%3aietf%3awg%3aoauth%3a2.0%3aoob&response_type=code&scope=email%20https%3a%2f%2fwww.googleapis.com%2fauth%2fdocs.test%20https%3a%2f%2fwww.googleapis.com%2fauth%2fdrive%20https%3a%2f%2fwww.googleapis.com%2fauth%2fdrive.photos.readonly%20https%3a%2f%2fwww.googleapis.com%2fauth%2fpeopleapi.readonly\n",
      "\n",
      "Enter your authorization code:\n",
      "··········\n",
      "Mounted at /content/drive/\n"
     ]
    }
   ],
   "source": [
    "from google.colab import drive\n",
    "drive.mount('/content/drive/')\n",
    "data=pd.read_csv('/content/drive/My Drive/Datasets/Linear Regression Dataset/ex1data1.txt')"
   ]
  },
  {
   "cell_type": "markdown",
   "metadata": {
    "colab_type": "text",
    "id": "NGIQf0DslkCG"
   },
   "source": [
    "###Preparing data.\n",
    "\n",
    "\n",
    "1.   Adding extra column.\n",
    "\n",
    "\n",
    "\n"
   ]
  },
  {
   "cell_type": "code",
   "execution_count": 0,
   "metadata": {
    "colab": {},
    "colab_type": "code",
    "id": "ZwPEB2ADskqu"
   },
   "outputs": [],
   "source": [
    "X=np.array([np.ones(data['6.1101'].shape),(data['6.1101'])]).T\n",
    "y=np.array([(data['17.592'])]).T"
   ]
  },
  {
   "cell_type": "code",
   "execution_count": 0,
   "metadata": {
    "colab": {},
    "colab_type": "code",
    "id": "eK4zdNBjs2uy"
   },
   "outputs": [],
   "source": []
  },
  {
   "cell_type": "markdown",
   "metadata": {
    "colab_type": "text",
    "id": "2soql7gRm027"
   },
   "source": [
    "Training the dataset"
   ]
  },
  {
   "cell_type": "code",
   "execution_count": 5,
   "metadata": {
    "colab": {
     "base_uri": "https://localhost:8080/",
     "height": 1000
    },
    "colab_type": "code",
    "id": "z7KbgXpGtnVw",
    "outputId": "13bfab5d-a75d-4132-f2d5-7bed5263e0a6"
   },
   "outputs": [
    {
     "name": "stdout",
     "output_type": "stream",
     "text": [
      "theta=  [[-1.0308659 ]\n",
      " [ 1.70990339]]\n",
      "**********\n",
      "theta=  [[-1.28578458]\n",
      " [ 0.92051293]]\n",
      "**********\n",
      "theta=  [[-1.45011372]\n",
      " [ 0.93697182]]\n",
      "**********\n",
      "theta=  [[-1.60521298]\n",
      " [ 0.95250625]]\n",
      "**********\n",
      "theta=  [[-1.75160075]\n",
      " [ 0.96716817]]\n",
      "**********\n",
      "theta=  [[-1.88976636]\n",
      " [ 0.98100656]]\n",
      "**********\n",
      "theta=  [[-2.0201716]\n",
      " [ 0.9940677]]\n",
      "**********\n",
      "theta=  [[-2.14325236]\n",
      " [ 1.00639522]]\n",
      "**********\n",
      "theta=  [[-2.25942003]\n",
      " [ 1.01803035]]\n",
      "**********\n",
      "theta=  [[-2.3690629 ]\n",
      " [ 1.02901197]]\n",
      "**********\n",
      "theta=  [[-2.47254745]\n",
      " [ 1.03937677]]\n",
      "**********\n",
      "theta=  [[-2.57021958]\n",
      " [ 1.04915942]]\n",
      "**********\n",
      "theta=  [[-2.66240575]\n",
      " [ 1.05839261]]\n",
      "**********\n",
      "theta=  [[-2.74941409]\n",
      " [ 1.06710719]]\n",
      "**********\n",
      "theta=  [[-2.83153542]\n",
      " [ 1.07533231]]\n",
      "**********\n",
      "theta=  [[-2.90904424]\n",
      " [ 1.08309544]]\n",
      "**********\n",
      "theta=  [[-2.98219961]\n",
      " [ 1.09042254]]\n",
      "**********\n",
      "theta=  [[-3.05124606]\n",
      " [ 1.09733809]]\n",
      "**********\n",
      "theta=  [[-3.11641437]\n",
      " [ 1.10386522]]\n",
      "**********\n",
      "theta=  [[-3.17792236]\n",
      " [ 1.11002574]]\n",
      "**********\n",
      "theta=  [[-3.23597563]\n",
      " [ 1.11584024]]\n",
      "**********\n",
      "theta=  [[-3.29076822]\n",
      " [ 1.12132816]]\n",
      "**********\n",
      "theta=  [[-3.34248327]\n",
      " [ 1.12650784]]\n",
      "**********\n",
      "theta=  [[-3.39129363]\n",
      " [ 1.13139659]]\n",
      "**********\n",
      "theta=  [[-3.43736246]\n",
      " [ 1.13601075]]\n",
      "**********\n",
      "theta=  [[-3.48084374]\n",
      " [ 1.14036575]]\n",
      "**********\n",
      "theta=  [[-3.5218828 ]\n",
      " [ 1.14447615]]\n",
      "**********\n",
      "theta=  [[-3.56061681]\n",
      " [ 1.14835567]]\n",
      "**********\n",
      "theta=  [[-3.59717525]\n",
      " [ 1.15201729]]\n",
      "**********\n",
      "theta=  [[-3.63168031]\n",
      " [ 1.15547325]]\n",
      "**********\n"
     ]
    }
   ],
   "source": [
    "W=np.array([(-1,2)]).T\n",
    "m=3\n",
    "alpha=0.0001\n",
    "for i in range(3000):\n",
    "  h=X.dot(W)\n",
    "  error=h-y\n",
    "  J=(1/(2*m))*sum(error**2)\n",
    "  delta=error.T.dot(X)\n",
    "  W=W- (alpha/m)*delta.T\n",
    "  if(i%100==0):\n",
    "    #print(\"Hypothesis:\", h)\n",
    "    #print(\"J_theta= \",J )\n",
    "    print(\"theta= \",W)\n",
    "    print(\"**********\")\n",
    "  \n"
   ]
  },
  {
   "cell_type": "code",
   "execution_count": 8,
   "metadata": {
    "colab": {
     "base_uri": "https://localhost:8080/",
     "height": 84
    },
    "colab_type": "code",
    "id": "dfRr7ZKxuLyP",
    "outputId": "3a6d3b9e-099a-4aba-f01b-8b2b3ab98778"
   },
   "outputs": [
    {
     "name": "stdout",
     "output_type": "stream",
     "text": [
      "Enter a number7\n",
      "[[1. 7.]]\n",
      "1\n",
      "[4446.99294269]\n"
     ]
    }
   ],
   "source": [
    "\n",
    "def predict_profit(x1,x2,t):\n",
    "  x=np.array([(x1,x2)])\n",
    "  print(x)\n",
    "  ans=x.dot(t)\n",
    "  print(ans.size)\n",
    "  a=ans[0]\n",
    "  return a\n",
    "a=1\n",
    "b=float(input(\"Enter a number\"))\n",
    "answer=predict_profit(a,b,W)\n",
    "print(answer*10000)"
   ]
  },
  {
   "cell_type": "code",
   "execution_count": 0,
   "metadata": {
    "colab": {},
    "colab_type": "code",
    "id": "QlYb-4wM4WjE"
   },
   "outputs": [],
   "source": [
    "def p(w,y):\n",
    "  return y.dot(w)\n"
   ]
  },
  {
   "cell_type": "code",
   "execution_count": 28,
   "metadata": {
    "colab": {
     "base_uri": "https://localhost:8080/",
     "height": 314
    },
    "colab_type": "code",
    "id": "CrY8mI5XiOtg",
    "outputId": "1a5acd39-f5b2-41e7-e839-b9090841153f"
   },
   "outputs": [
    {
     "name": "stdout",
     "output_type": "stream",
     "text": [
      "(96, 1)\n",
      "(96, 1)\n"
     ]
    },
    {
     "data": {
      "image/png": "[encoded data removed]",
      "text/plain": [
       "<Figure size 432x288 with 1 Axes>"
      ]
     },
     "metadata": {
      "needs_background": "light",
      "tags": []
     },
     "output_type": "display_data"
    }
   ],
   "source": [
    "x_plot=np.array([data['6.1101']]).T\n",
    "y_plot=np.array([data['17.592']]).T\n",
    "print(y_plot.shape)\n",
    "print(x_plot.shape)\n",
    "plt.scatter(x_plot,y_plot)\n",
    "plt.plot(x_plot,p(W,X),color=\"red\")\n",
    "plt.xlabel('Population in 10,000s')\n",
    "plt.ylabel('Profit in $10,000')\n",
    "plt.show()"
   ]
  },
  {
   "cell_type": "code",
   "execution_count": 0,
   "metadata": {
    "colab": {},
    "colab_type": "code",
    "id": "3lQR8DD32vyH"
   },
   "outputs": [],
   "source": []
  }
 ],
 "metadata": {
  "colab": {
   "collapsed_sections": [],
   "name": "Linear Regression.ipynb",
   "provenance": []
  },
  "kernelspec": {
   "display_name": "Python 3",
   "language": "python",
   "name": "python3"
  },
  "language_info": {
   "codemirror_mode": {
    "name": "ipython",
    "version": 3
   },
   "file_extension": ".py",
   "mimetype": "text/x-python",
   "name": "python",
   "nbconvert_exporter": "python",
   "pygments_lexer": "ipython3",
   "version": "3.7.3"
  }
 },
 "nbformat": 4,
 "nbformat_minor": 1
}
