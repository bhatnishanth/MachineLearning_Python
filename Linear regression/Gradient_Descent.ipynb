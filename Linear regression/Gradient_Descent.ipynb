{
  "nbformat": 4,
  "nbformat_minor": 0,
  "metadata": {
    "colab": {
      "name": "Gradient Descent.ipynb",
      "provenance": []
    },
    "kernelspec": {
      "name": "python3",
      "display_name": "Python 3"
    }
  },
  "cells": [
    {
      "cell_type": "markdown",
      "metadata": {
        "id": "ICsqeopdxHsN",
        "colab_type": "text"
      },
      "source": [
        "Imports"
      ]
    },
    {
      "cell_type": "code",
      "metadata": {
        "id": "SIiTMDhFUw5P",
        "colab_type": "code",
        "colab": {}
      },
      "source": [
        "import numpy as  np\n",
        "import matplotlib.pyplot as plt"
      ],
      "execution_count": 0,
      "outputs": []
    },
    {
      "cell_type": "markdown",
      "metadata": {
        "id": "AIcaoOfNxKN9",
        "colab_type": "text"
      },
      "source": [
        "N--> No of samples<br>\n",
        "D--> No of features"
      ]
    },
    {
      "cell_type": "code",
      "metadata": {
        "id": "VKOzbixwU4Fj",
        "colab_type": "code",
        "colab": {}
      },
      "source": [
        "N=10\n",
        "D=3"
      ],
      "execution_count": 0,
      "outputs": []
    },
    {
      "cell_type": "markdown",
      "metadata": {
        "id": "5JebB5bLxP39",
        "colab_type": "text"
      },
      "source": [
        "Creating our own data"
      ]
    },
    {
      "cell_type": "code",
      "metadata": {
        "id": "ljcnC1jxU9f6",
        "colab_type": "code",
        "outputId": "0343bfa2-11ff-4af5-f84c-fc62bb5310a5",
        "colab": {
          "base_uri": "https://localhost:8080/",
          "height": 185
        }
      },
      "source": [
        "X=np.zeros((N,D))\n",
        "X[:,0]=1\n",
        "X[:5,1]=1\n",
        "X[5:,2]=1\n",
        "print(X)\n"
      ],
      "execution_count": 0,
      "outputs": [
        {
          "output_type": "stream",
          "text": [
            "[[1. 1. 0.]\n",
            " [1. 1. 0.]\n",
            " [1. 1. 0.]\n",
            " [1. 1. 0.]\n",
            " [1. 1. 0.]\n",
            " [1. 0. 1.]\n",
            " [1. 0. 1.]\n",
            " [1. 0. 1.]\n",
            " [1. 0. 1.]\n",
            " [1. 0. 1.]]\n"
          ],
          "name": "stdout"
        }
      ]
    },
    {
      "cell_type": "code",
      "metadata": {
        "id": "qge-Rl9kVL5p",
        "colab_type": "code",
        "outputId": "1acef2d9-8eda-49ff-e380-bae0a950b483",
        "colab": {
          "base_uri": "https://localhost:8080/",
          "height": 34
        }
      },
      "source": [
        "Y=np.array([0]*5+[1]*5)\n",
        "print(Y)"
      ],
      "execution_count": 0,
      "outputs": [
        {
          "output_type": "stream",
          "text": [
            "[0 0 0 0 0 1 1 1 1 1]\n"
          ],
          "name": "stdout"
        }
      ]
    },
    {
      "cell_type": "markdown",
      "metadata": {
        "id": "K9fKeZeyxS6o",
        "colab_type": "text"
      },
      "source": [
        "Calculating :<br>\n",
        "\n",
        "\n",
        "*   Cost function\n",
        "*   Gradient of cost function and using that to update weights\n",
        "\n"
      ]
    },
    {
      "cell_type": "code",
      "metadata": {
        "id": "IWQzH7zaVZDN",
        "colab_type": "code",
        "colab": {}
      },
      "source": [
        "cost=[]\n",
        "w=np.random.randn(D)/np.sqrt(D)\n",
        "alpha=0.001\n",
        "for t in range(1000):\n",
        "  Yhat=X.dot(w)\n",
        "  delta=Yhat-Y\n",
        "  w=w-alpha*X.T.dot(delta)\n",
        "  mse=delta.dot(delta)/N\n",
        "  cost.append(mse)"
      ],
      "execution_count": 0,
      "outputs": []
    },
    {
      "cell_type": "markdown",
      "metadata": {
        "id": "HlKZWaOhxf8z",
        "colab_type": "text"
      },
      "source": [
        "Plotting costs over iterations"
      ]
    },
    {
      "cell_type": "code",
      "metadata": {
        "id": "qf5zGdhIWDki",
        "colab_type": "code",
        "outputId": "e567fa2e-8fac-4413-cc2a-8e2450db27cf",
        "colab": {
          "base_uri": "https://localhost:8080/",
          "height": 265
        }
      },
      "source": [
        "plt.plot(cost)\n",
        "plt.show()"
      ],
      "execution_count": 0,
      "outputs": [
        {
          "output_type": "display_data",
          "data": {
            "image/png": "[encoded data removed]",
            "text/plain": [
              "<Figure size 432x288 with 1 Axes>"
            ]
          },
          "metadata": {
            "tags": [],
            "needs_background": "light"
          }
        }
      ]
    },
    {
      "cell_type": "markdown",
      "metadata": {
        "id": "z9JtagHPxkoN",
        "colab_type": "text"
      },
      "source": [
        "Plotting **Traget** line and **Prediction** line"
      ]
    },
    {
      "cell_type": "code",
      "metadata": {
        "id": "TM0zmCbrWK4V",
        "colab_type": "code",
        "outputId": "10d722ff-bdf1-4896-99f7-c168699172d1",
        "colab": {
          "base_uri": "https://localhost:8080/",
          "height": 265
        }
      },
      "source": [
        "plt.plot(Yhat,label='prediction')\n",
        "plt.plot(Y,label='target')\n",
        "plt.legend()\n",
        "plt.show()"
      ],
      "execution_count": 0,
      "outputs": [
        {
          "output_type": "display_data",
          "data": {
            "image/png": "[encoded data removed]",
            "text/plain": [
              "<Figure size 432x288 with 1 Axes>"
            ]
          },
          "metadata": {
            "tags": [],
            "needs_background": "light"
          }
        }
      ]
    },
    {
      "cell_type": "code",
      "metadata": {
        "id": "jj8rL_5GWgH5",
        "colab_type": "code",
        "colab": {}
      },
      "source": [
        ""
      ],
      "execution_count": 0,
      "outputs": []
    }
  ]
}