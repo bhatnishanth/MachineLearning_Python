{
  "nbformat": 4,
  "nbformat_minor": 0,
  "metadata": {
    "colab": {
      "name": "L2 Regularization.ipynb",
      "provenance": [],
      "collapsed_sections": []
    },
    "kernelspec": {
      "name": "python3",
      "display_name": "Python 3"
    }
  },
  "cells": [
    {
      "cell_type": "markdown",
      "metadata": {
        "id": "OkdIb7Kawc5N",
        "colab_type": "text"
      },
      "source": [
        "Imports"
      ]
    },
    {
      "cell_type": "code",
      "metadata": {
        "id": "QGnpzsuU9PO7",
        "colab_type": "code",
        "colab": {}
      },
      "source": [
        "import pandas as pd\n",
        "import numpy as np\n",
        "import matplotlib.pyplot as plt"
      ],
      "execution_count": 0,
      "outputs": []
    },
    {
      "cell_type": "markdown",
      "metadata": {
        "id": "4FaqGo1LwflG",
        "colab_type": "text"
      },
      "source": [
        "Creating our own data."
      ]
    },
    {
      "cell_type": "code",
      "metadata": {
        "id": "God5gjuS94_V",
        "colab_type": "code",
        "colab": {}
      },
      "source": [
        "N=50\n",
        "X=np.linspace(0,10,N)\n",
        "Y=0.5*X + np.random.randn(N)\n",
        "Y[-1]+=30\n",
        "Y[-2]+=30"
      ],
      "execution_count": 0,
      "outputs": []
    },
    {
      "cell_type": "markdown",
      "metadata": {
        "id": "K72hHgwKwjM6",
        "colab_type": "text"
      },
      "source": [
        "Visualising it"
      ]
    },
    {
      "cell_type": "code",
      "metadata": {
        "id": "eDbU5TFc-GY9",
        "colab_type": "code",
        "outputId": "5c720552-3e64-4b90-f3da-05ff41d81486",
        "colab": {
          "base_uri": "https://localhost:8080/",
          "height": 265
        }
      },
      "source": [
        "plt.scatter(X,Y,color=\"cyan\")\n",
        "plt.show()"
      ],
      "execution_count": 0,
      "outputs": [
        {
          "output_type": "display_data",
          "data": {
            "image/png": "[encoded data removed]",
            "text/plain": [
              "<Figure size 432x288 with 1 Axes>"
            ]
          },
          "metadata": {
            "tags": [],
            "needs_background": "light"
          }
        }
      ]
    },
    {
      "cell_type": "markdown",
      "metadata": {
        "id": "HxPhuCHJwmKn",
        "colab_type": "text"
      },
      "source": [
        "Adding bias term "
      ]
    },
    {
      "cell_type": "code",
      "metadata": {
        "id": "OYaclhI6-14i",
        "colab_type": "code",
        "colab": {}
      },
      "source": [
        "X=np.vstack([np.ones(N),X]).T"
      ],
      "execution_count": 0,
      "outputs": []
    },
    {
      "cell_type": "markdown",
      "metadata": {
        "id": "PO_-LT-CwqHG",
        "colab_type": "text"
      },
      "source": [
        "Calculating weights **without L2 Regularisation**"
      ]
    },
    {
      "cell_type": "code",
      "metadata": {
        "id": "xFrHEncP-886",
        "colab_type": "code",
        "outputId": "dea8ee7b-5aa3-43a0-9da4-f912e57f3ee9",
        "colab": {
          "base_uri": "https://localhost:8080/",
          "height": 265
        }
      },
      "source": [
        "w_ml=np.linalg.solve(X.T.dot(X),X.T.dot(Y))\n",
        "Yhat_ml=X.dot(w_ml)\n",
        "plt.scatter(X[:,1],Y)\n",
        "plt.plot(X[:,1],Yhat_ml,color=\"red\")\n",
        "plt.show()"
      ],
      "execution_count": 0,
      "outputs": [
        {
          "output_type": "display_data",
          "data": {
            "image/png": "[encoded data removed]",
            "text/plain": [
              "<Figure size 432x288 with 1 Axes>"
            ]
          },
          "metadata": {
            "tags": [],
            "needs_background": "light"
          }
        }
      ]
    },
    {
      "cell_type": "markdown",
      "metadata": {
        "id": "2kGj9WYBwyvj",
        "colab_type": "text"
      },
      "source": [
        "Calculating weights **using L2 Regularisation**"
      ]
    },
    {
      "cell_type": "code",
      "metadata": {
        "id": "Q4JmM7UD_RP6",
        "colab_type": "code",
        "outputId": "29bdb2d6-da7e-40a3-9326-d1603bb425aa",
        "colab": {
          "base_uri": "https://localhost:8080/",
          "height": 265
        }
      },
      "source": [
        "#map mean L2 regularisation\n",
        "# maximum likelihood means normalisation eqaution\n",
        "l2=1000.0\n",
        "w_map=np.linalg.solve(l2*np.eye(2)+X.T.dot(X),X.T.dot(Y))\n",
        "Yhat_map=X.dot(w_map)\n",
        "plt.scatter(X[:,1],Y,color=\"cyan\")\n",
        "plt.plot(X[:,1],Yhat_ml,label='maximum likelihood',color=\"red\")\n",
        "plt.plot(X[:,1],Yhat_map,label='map',color=\"yellow\")\n",
        "plt.legend()\n",
        "plt.show()"
      ],
      "execution_count": 0,
      "outputs": [
        {
          "output_type": "display_data",
          "data": {
            "image/png": "[encoded data removed]",
            "text/plain": [
              "<Figure size 432x288 with 1 Axes>"
            ]
          },
          "metadata": {
            "tags": [],
            "needs_background": "light"
          }
        }
      ]
    },
    {
      "cell_type": "code",
      "metadata": {
        "id": "nri62ZBtDnXI",
        "colab_type": "code",
        "colab": {}
      },
      "source": [
        ""
      ],
      "execution_count": 0,
      "outputs": []
    }
  ]
}