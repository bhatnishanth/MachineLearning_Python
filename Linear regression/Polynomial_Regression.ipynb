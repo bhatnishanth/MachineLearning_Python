{
  "nbformat": 4,
  "nbformat_minor": 0,
  "metadata": {
    "colab": {
      "name": "Polynomial Regression.ipynb",
      "provenance": []
    },
    "kernelspec": {
      "name": "python3",
      "display_name": "Python 3"
    }
  },
  "cells": [
    {
      "cell_type": "markdown",
      "metadata": {
        "id": "5Kp6P2bhuKu7",
        "colab_type": "text"
      },
      "source": [
        "<h1>Imports</h1>"
      ]
    },
    {
      "cell_type": "code",
      "metadata": {
        "id": "KydtkX8ijyPS",
        "colab_type": "code",
        "colab": {}
      },
      "source": [
        "import pandas as pd\n",
        "import numpy as np\n",
        "import matplotlib.pyplot as plt"
      ],
      "execution_count": 0,
      "outputs": []
    },
    {
      "cell_type": "code",
      "metadata": {
        "id": "KckH9SbAj646",
        "colab_type": "code",
        "outputId": "fd0e09ea-23a1-477b-9d60-8785c66f152a",
        "colab": {
          "base_uri": "https://localhost:8080/",
          "height": 54
        }
      },
      "source": [
        "from google.colab import drive\n",
        "drive.mount('/content/drive/')"
      ],
      "execution_count": 0,
      "outputs": [
        {
          "output_type": "stream",
          "text": [
            "Drive already mounted at /content/drive/; to attempt to forcibly remount, call drive.mount(\"/content/drive/\", force_remount=True).\n"
          ],
          "name": "stdout"
        }
      ]
    },
    {
      "cell_type": "code",
      "metadata": {
        "id": "kztU9NOUj-2a",
        "colab_type": "code",
        "colab": {}
      },
      "source": [
        "data=pd.read_csv('/content/drive/My Drive/Datasets/Linear Regression Dataset/data_poly.txt')"
      ],
      "execution_count": 0,
      "outputs": []
    },
    {
      "cell_type": "markdown",
      "metadata": {
        "id": "MKLwbsVPuRhC",
        "colab_type": "text"
      },
      "source": [
        "<b>Preprocessing data<b><br>\n",
        "Adding a columns of 1's , columns of X and column of X^2"
      ]
    },
    {
      "cell_type": "code",
      "metadata": {
        "id": "iMkDcQGQkd17",
        "colab_type": "code",
        "colab": {}
      },
      "source": [
        "X=np.array([np.ones(data['76.7007086033'].shape),data['76.7007086033'],data['76.7007086033']**2]).T\n",
        "Y=np.array(data['663.797275569']).T"
      ],
      "execution_count": 0,
      "outputs": []
    },
    {
      "cell_type": "markdown",
      "metadata": {
        "id": "6Nszm2M9uist",
        "colab_type": "text"
      },
      "source": [
        "Visualizing the data"
      ]
    },
    {
      "cell_type": "code",
      "metadata": {
        "id": "8cm2YmXykoYD",
        "colab_type": "code",
        "outputId": "d77d4b77-9a4e-40a6-8344-46d9ac735025",
        "colab": {
          "base_uri": "https://localhost:8080/",
          "height": 265
        }
      },
      "source": [
        "plt.scatter(X[:,1],Y,color=\"cyan\")\n",
        "plt.show()"
      ],
      "execution_count": 0,
      "outputs": [
        {
          "output_type": "display_data",
          "data": {
            "image/png": "[encoded data removed]",
            "text/plain": [
              "<Figure size 432x288 with 1 Axes>"
            ]
          },
          "metadata": {
            "tags": [],
            "needs_background": "light"
          }
        }
      ]
    },
    {
      "cell_type": "markdown",
      "metadata": {
        "id": "x0FUWy6humoe",
        "colab_type": "text"
      },
      "source": [
        "Calculation of weights"
      ]
    },
    {
      "cell_type": "code",
      "metadata": {
        "id": "Ckf4mNqClKgh",
        "colab_type": "code",
        "colab": {}
      },
      "source": [
        "# calculate weights\n",
        "\n",
        "W=np.linalg.solve(np.dot(X.T,X),np.dot(X.T,Y))\n",
        "Yhat=X.dot(W)"
      ],
      "execution_count": 0,
      "outputs": []
    },
    {
      "cell_type": "markdown",
      "metadata": {
        "id": "wJf2BgqMutdJ",
        "colab_type": "text"
      },
      "source": [
        "Calculation of R-square"
      ]
    },
    {
      "cell_type": "code",
      "metadata": {
        "id": "16Pjb2tun4ff",
        "colab_type": "code",
        "outputId": "f45960be-65e3-4085-cac8-700bb4d4caa2",
        "colab": {
          "base_uri": "https://localhost:8080/",
          "height": 34
        }
      },
      "source": [
        "d1=Y-Yhat\n",
        "d2=Y-Y.mean()\n",
        "r2=1-(d1.dot(d1)/d2.dot(d2))\n",
        "print(\"Accuracy: \",r2)"
      ],
      "execution_count": 0,
      "outputs": [
        {
          "output_type": "stream",
          "text": [
            "Accuracy:  0.9991370758981714\n"
          ],
          "name": "stdout"
        }
      ]
    },
    {
      "cell_type": "markdown",
      "metadata": {
        "id": "eNTuVkYGuxgI",
        "colab_type": "text"
      },
      "source": [
        "Visualizing the line of best fit"
      ]
    },
    {
      "cell_type": "code",
      "metadata": {
        "id": "XLNqh5oUoobp",
        "colab_type": "code",
        "outputId": "93519a6a-7898-40f7-afa9-802a5c913bcb",
        "colab": {
          "base_uri": "https://localhost:8080/",
          "height": 265
        }
      },
      "source": [
        "plt.scatter(X[:,1],Y,color=\"cyan\")\n",
        "plt.plot(sorted(X[:,1]),sorted(Yhat),color=\"red\")\n",
        "plt.show()"
      ],
      "execution_count": 0,
      "outputs": [
        {
          "output_type": "display_data",
          "data": {
            "image/png": "[encoded data removed]",
            "text/plain": [
              "<Figure size 432x288 with 1 Axes>"
            ]
          },
          "metadata": {
            "tags": [],
            "needs_background": "light"
          }
        }
      ]
    },
    {
      "cell_type": "code",
      "metadata": {
        "id": "pZP32r74o3N_",
        "colab_type": "code",
        "colab": {}
      },
      "source": [
        ""
      ],
      "execution_count": 0,
      "outputs": []
    }
  ]
}