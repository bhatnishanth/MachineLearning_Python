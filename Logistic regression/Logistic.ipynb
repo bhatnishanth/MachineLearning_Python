{
  "nbformat": 4,
  "nbformat_minor": 0,
  "metadata": {
    "colab": {
      "name": "Logistic.ipynb",
      "provenance": []
    },
    "kernelspec": {
      "name": "python3",
      "display_name": "Python 3"
    }
  },
  "cells": [
    {
      "cell_type": "code",
      "metadata": {
        "id": "dqKxYL5mssAe",
        "colab_type": "code",
        "colab": {}
      },
      "source": [
        "import numpy as np\n",
        "import matplotlib.pyplot as plt"
      ],
      "execution_count": 0,
      "outputs": []
    },
    {
      "cell_type": "code",
      "metadata": {
        "id": "ltbNGn_o8tw3",
        "colab_type": "code",
        "colab": {}
      },
      "source": [
        "N=100\n",
        "D=2"
      ],
      "execution_count": 0,
      "outputs": []
    },
    {
      "cell_type": "code",
      "metadata": {
        "id": "yN9U1_mV8vXg",
        "colab_type": "code",
        "colab": {}
      },
      "source": [
        "X=np.random.randn(N,D)\n",
        "X[:50,:]=X[:50,:] - 2*np.ones((50,D))\n",
        "X[50:,:]=X[50:,:] + 2*np.ones((50,D))\n",
        "T=np.array([0]*50+[1]*50)"
      ],
      "execution_count": 0,
      "outputs": []
    },
    {
      "cell_type": "code",
      "metadata": {
        "id": "A50qXcve9Eub",
        "colab_type": "code",
        "colab": {}
      },
      "source": [
        "ones=np.array([[1]*N]).T\n",
        "Xb=np.concatenate((ones,X),axis=1)\n",
        "w=np.random.randn(D+1)"
      ],
      "execution_count": 0,
      "outputs": []
    },
    {
      "cell_type": "code",
      "metadata": {
        "id": "n7U1n6Km9IEi",
        "colab_type": "code",
        "colab": {}
      },
      "source": [
        "z=Xb.dot(w)"
      ],
      "execution_count": 0,
      "outputs": []
    },
    {
      "cell_type": "code",
      "metadata": {
        "id": "w-KJCCCD9Pvx",
        "colab_type": "code",
        "colab": {}
      },
      "source": [
        ""
      ],
      "execution_count": 0,
      "outputs": []
    },
    {
      "cell_type": "code",
      "metadata": {
        "id": "H-26zLk_9X1q",
        "colab_type": "code",
        "colab": {}
      },
      "source": [
        "def sigmoid(z):\n",
        "  return 1/(1+np.exp(-z))"
      ],
      "execution_count": 0,
      "outputs": []
    },
    {
      "cell_type": "code",
      "metadata": {
        "id": "5tCKCyGzuK6V",
        "colab_type": "code",
        "colab": {}
      },
      "source": [
        "Y=sigmoid(z)"
      ],
      "execution_count": 0,
      "outputs": []
    },
    {
      "cell_type": "code",
      "metadata": {
        "id": "o_q3xSo19dFm",
        "colab_type": "code",
        "colab": {}
      },
      "source": [
        "def entropy(T,Y):\n",
        "  E=0\n",
        "  for i in range(N):\n",
        "    if T[i]==1:\n",
        "      E-=np.log(Y[i])\n",
        "    else:\n",
        "      E-=np.log(1-Y[i])\n",
        "  return E \n"
      ],
      "execution_count": 0,
      "outputs": []
    },
    {
      "cell_type": "code",
      "metadata": {
        "id": "MroEq2V49gFI",
        "colab_type": "code",
        "outputId": "10635a1a-d1e3-4e56-baeb-f1efc5d0cece",
        "colab": {
          "base_uri": "https://localhost:8080/",
          "height": 34
        }
      },
      "source": [
        "print(entropy(T,Y))"
      ],
      "execution_count": 0,
      "outputs": [
        {
          "output_type": "stream",
          "text": [
            "23.12395488936211\n"
          ],
          "name": "stdout"
        }
      ]
    },
    {
      "cell_type": "markdown",
      "metadata": {
        "id": "Jod6dGPmFgQD",
        "colab_type": "text"
      },
      "source": [
        "Predefined weights"
      ]
    },
    {
      "cell_type": "code",
      "metadata": {
        "id": "avgnuzRkuo5r",
        "colab_type": "code",
        "outputId": "b1e44175-ea79-46da-a08c-6e820510110e",
        "colab": {
          "base_uri": "https://localhost:8080/",
          "height": 34
        }
      },
      "source": [
        "w=np.array([0,4,4])\n",
        "z=Xb.dot(w)\n",
        "Y=sigmoid(z)\n",
        "print(entropy(T,Y))"
      ],
      "execution_count": 0,
      "outputs": [
        {
          "output_type": "stream",
          "text": [
            "0.42311225792036933\n"
          ],
          "name": "stdout"
        }
      ]
    },
    {
      "cell_type": "markdown",
      "metadata": {
        "id": "COMah8iIFs-0",
        "colab_type": "text"
      },
      "source": [
        "Plotting data.<br>\n",
        "Note:   The data is made manually above. We have made the data to look like this just for practice purposes"
      ]
    },
    {
      "cell_type": "code",
      "metadata": {
        "id": "c2ww2Pdvu9xF",
        "colab_type": "code",
        "outputId": "c2da39b9-a959-41a7-aac0-e99cd5e6670f",
        "colab": {
          "base_uri": "https://localhost:8080/",
          "height": 265
        }
      },
      "source": [
        "plt.scatter(X[:,0],X[:,1],c=T,s=100,alpha=0.5)\n",
        "x_axis=np.linspace(-6,6,100)\n",
        "y_axis=-x_axis\n",
        "plt.plot(x_axis,y_axis,color=\"red\")\n",
        "plt.show()"
      ],
      "execution_count": 0,
      "outputs": [
        {
          "output_type": "display_data",
          "data": {
            "image/png": "[encoded data removed]",
            "text/plain": [
              "<Figure size 432x288 with 1 Axes>"
            ]
          },
          "metadata": {
            "tags": [],
            "needs_background": "light"
          }
        }
      ]
    },
    {
      "cell_type": "code",
      "metadata": {
        "id": "toYkorEsvtnx",
        "colab_type": "code",
        "colab": {}
      },
      "source": [
        ""
      ],
      "execution_count": 0,
      "outputs": []
    },
    {
      "cell_type": "code",
      "metadata": {
        "id": "_MGU9qW6wUVl",
        "colab_type": "code",
        "colab": {}
      },
      "source": [
        ""
      ],
      "execution_count": 0,
      "outputs": []
    }
  ]
}