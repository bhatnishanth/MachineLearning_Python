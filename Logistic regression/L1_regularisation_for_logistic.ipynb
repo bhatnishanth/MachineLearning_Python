{
  "nbformat": 4,
  "nbformat_minor": 0,
  "metadata": {
    "colab": {
      "name": "L1 regularisation for logistic.ipynb",
      "provenance": []
    },
    "kernelspec": {
      "name": "python3",
      "display_name": "Python 3"
    }
  },
  "cells": [
    {
      "cell_type": "code",
      "metadata": {
        "id": "7K2CxUPmj0Jo",
        "colab_type": "code",
        "colab": {}
      },
      "source": [
        "import numpy as np\n",
        "import matplotlib.pyplot as plt\n"
      ],
      "execution_count": 0,
      "outputs": []
    },
    {
      "cell_type": "code",
      "metadata": {
        "id": "XWEkxbl0j6ix",
        "colab_type": "code",
        "colab": {}
      },
      "source": [
        "def sigmoid(z):\n",
        "  return 1/(1+ np.exp(-z))"
      ],
      "execution_count": 0,
      "outputs": []
    },
    {
      "cell_type": "code",
      "metadata": {
        "id": "jAshe357kEUB",
        "colab_type": "code",
        "colab": {}
      },
      "source": [
        "N=50\n",
        "D=50"
      ],
      "execution_count": 0,
      "outputs": []
    },
    {
      "cell_type": "code",
      "metadata": {
        "id": "2VfkeEAzkGUA",
        "colab_type": "code",
        "colab": {}
      },
      "source": [
        "X=(np.random.random((N,D))-0.5)*10\n",
        "true_w=np.array([1,0.5,-0.5]+[0]*(D-3))\n",
        "Y=np.round(sigmoid(X.dot(true_w)+np.random.randn(N)*0.5))"
      ],
      "execution_count": 0,
      "outputs": []
    },
    {
      "cell_type": "code",
      "metadata": {
        "id": "GXUcSZr9kY6n",
        "colab_type": "code",
        "colab": {}
      },
      "source": [
        "costs=[]\n",
        "w=np.random.randn(D)/np.sqrt(D)\n",
        "learning_rate=0.001\n",
        "l1=2.0\n",
        "for t in range(5000):\n",
        "  Yhat=sigmoid(X.dot(w))\n",
        "  delta=Yhat-Y\n",
        "  w=w-learning_rate*(X.T.dot(delta)+l1*np.sign(w))\n",
        "  cost=-(Y*np.log(Yhat)+(1-Y)*np.log(1-Yhat)).mean() + l1*np.abs(w).mean()\n",
        "  costs.append(cost)"
      ],
      "execution_count": 0,
      "outputs": []
    },
    {
      "cell_type": "code",
      "metadata": {
        "id": "kiLjXl81lKTz",
        "colab_type": "code",
        "colab": {
          "base_uri": "https://localhost:8080/",
          "height": 516
        },
        "outputId": "18dd42bc-089f-4300-c472-c9e24e00e5f0"
      },
      "source": [
        "plt.plot(costs)\n",
        "plt.show()\n",
        "plt.plot(true_w,label='true w')\n",
        "plt.plot(w,label='w map')\n",
        "plt.legend()\n",
        "plt.show()"
      ],
      "execution_count": 22,
      "outputs": [
        {
          "output_type": "display_data",
          "data": {
            "image/png": "[encoded data removed]",
            "text/plain": [
              "<Figure size 432x288 with 1 Axes>"
            ]
          },
          "metadata": {
            "tags": [],
            "needs_background": "light"
          }
        },
        {
          "output_type": "display_data",
          "data": {
            "image/png": "[encoded data removed]",
            "text/plain": [
              "<Figure size 432x288 with 1 Axes>"
            ]
          },
          "metadata": {
            "tags": [],
            "needs_background": "light"
          }
        }
      ]
    },
    {
      "cell_type": "code",
      "metadata": {
        "id": "DZ-9QCiBlulW",
        "colab_type": "code",
        "colab": {}
      },
      "source": [
        ""
      ],
      "execution_count": 0,
      "outputs": []
    }
  ]
}