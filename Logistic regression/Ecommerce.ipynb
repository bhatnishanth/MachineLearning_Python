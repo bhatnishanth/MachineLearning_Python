{
  "nbformat": 4,
  "nbformat_minor": 0,
  "metadata": {
    "colab": {
      "name": "Ecommerce.ipynb",
      "provenance": [],
      "collapsed_sections": []
    },
    "kernelspec": {
      "name": "python3",
      "display_name": "Python 3"
    }
  },
  "cells": [
    {
      "cell_type": "markdown",
      "metadata": {
        "id": "QsEjDtpMC_HD",
        "colab_type": "text"
      },
      "source": [
        "<b>Required Imports</b>"
      ]
    },
    {
      "cell_type": "code",
      "metadata": {
        "id": "TTh_PMwt_NvM",
        "colab_type": "code",
        "colab": {}
      },
      "source": [
        "import matplotlib.pyplot as plt\n",
        "import numpy as np\n",
        "from google.colab import drive\n",
        "import pandas as pd\n",
        "from sklearn.utils import shuffle"
      ],
      "execution_count": 0,
      "outputs": []
    },
    {
      "cell_type": "markdown",
      "metadata": {
        "id": "YqxnGT7xDFfJ",
        "colab_type": "text"
      },
      "source": [
        "Since I am using google colab therefore i write the following: (For jupyter users can simply skip the next 2 cells)"
      ]
    },
    {
      "cell_type": "code",
      "metadata": {
        "id": "CimK_10PAaH2",
        "colab_type": "code",
        "outputId": "ebbec5fb-a6bb-4844-92b0-0d94845e03f5",
        "colab": {
          "base_uri": "https://localhost:8080/",
          "height": 54
        }
      },
      "source": [
        "drive.mount('/content/drive/')"
      ],
      "execution_count": 0,
      "outputs": [
        {
          "output_type": "stream",
          "text": [
            "Drive already mounted at /content/drive/; to attempt to forcibly remount, call drive.mount(\"/content/drive/\", force_remount=True).\n"
          ],
          "name": "stdout"
        }
      ]
    },
    {
      "cell_type": "code",
      "metadata": {
        "id": "fjMgiMNwAe8x",
        "colab_type": "code",
        "colab": {}
      },
      "source": [
        "data=pd.read_csv('/content/drive/My Drive/Datasets/Logistic regression/ecommerce_data.csv')"
      ],
      "execution_count": 0,
      "outputs": []
    },
    {
      "cell_type": "markdown",
      "metadata": {
        "id": "GCzCMi40DaHV",
        "colab_type": "text"
      },
      "source": [
        "Importing the data in csv format"
      ]
    },
    {
      "cell_type": "code",
      "metadata": {
        "id": "NUns65o6BGNE",
        "colab_type": "code",
        "outputId": "01737031-c0f6-41ce-9bc1-5a6c0f1b9fdd",
        "colab": {
          "base_uri": "https://localhost:8080/",
          "height": 1000
        }
      },
      "source": [
        "df=pd.read_csv('/content/drive/My Drive/Datasets/Logistic regression/ecommerce_data.csv')\n",
        "data=df.values\n",
        "X=data[:,:-1]\n",
        "print(X[:,2])"
      ],
      "execution_count": 0,
      "outputs": [
        {
          "output_type": "stream",
          "text": [
            "[6.57509946e-01 5.68571234e-01 4.22459972e-02 1.65979338e+00\n",
            " 2.01474485e+00 5.12447387e-01 1.44032710e+00 3.52602331e-02\n",
            " 1.49076409e+00 5.83752105e-03 2.04604049e+00 9.55889466e-01\n",
            " 1.59377604e-01 7.69272093e-01 2.26271266e-01 9.88228603e-01\n",
            " 1.60582973e-01 1.15029585e-01 4.83714044e-01 1.82400584e-01\n",
            " 2.71692558e-01 2.96118172e-01 9.96240124e-01 1.94535712e+00\n",
            " 2.93628762e-02 8.73551048e-02 1.90816589e+00 1.19630359e-01\n",
            " 1.00013381e-01 7.07463235e-01 4.46573478e-02 8.88626140e-01\n",
            " 2.08264407e+00 2.09047184e+00 1.11606573e+00 1.39738444e-02\n",
            " 2.54083736e-01 8.79175145e-01 1.20889141e+00 6.20071009e-02\n",
            " 1.66427128e+00 1.09204237e+00 1.88662056e-01 2.58902814e-01\n",
            " 2.16297523e-01 6.81184764e-02 1.21636593e+00 7.75308304e-02\n",
            " 2.76065732e+00 4.13759695e-01 1.16767024e+00 1.21181900e+00\n",
            " 9.18526053e-01 1.55500429e+00 4.49372855e-01 5.43215224e-01\n",
            " 2.22325723e+00 1.04567317e+00 2.89637013e-01 8.36483998e-01\n",
            " 1.99600973e-01 7.14921958e-01 1.23716869e+00 8.57807175e-01\n",
            " 1.90354097e+00 6.88584482e-01 1.28104825e+00 3.67871682e-01\n",
            " 1.22865449e-01 1.62025551e+00 3.04328581e+00 2.33978717e-01\n",
            " 1.21333358e+00 1.54909595e+00 6.60328692e-01 9.20480080e-01\n",
            " 3.84992423e-01 7.01483903e-01 9.19779419e-02 9.50432086e-02\n",
            " 1.81667019e+00 1.58289077e+00 6.92645675e-03 1.26660432e-01\n",
            " 1.38848012e+00 9.68608382e-01 7.40300656e-01 3.02250012e+00\n",
            " 2.94701257e+00 2.08142422e+00 2.94638039e-01 1.52482908e+00\n",
            " 7.45520924e-01 5.52049329e-02 3.49107211e+00 1.03754088e+00\n",
            " 5.93552495e-01 5.56256123e+00 3.05464553e-01 7.75653288e-01\n",
            " 3.55264771e-01 1.12545505e+00 1.37565456e-01 5.64504937e-01\n",
            " 3.03770783e-02 3.67136333e-01 3.80630788e+00 9.84629288e-01\n",
            " 5.45506378e-01 1.73013921e-01 3.56036404e+00 3.97131276e+00\n",
            " 2.37900768e-01 3.13873241e-02 1.62152920e+00 9.45719697e-01\n",
            " 2.86006440e-01 1.01703843e+00 8.54159829e-01 3.21202578e-01\n",
            " 3.60278265e+00 4.39169346e-01 1.62312018e+00 4.74687039e-01\n",
            " 5.00528711e-01 1.02359447e+00 6.14914364e-01 2.36528676e-01\n",
            " 1.37168264e+00 1.08857401e+00 2.70274738e-01 7.17776906e-01\n",
            " 5.70007360e-01 3.08415012e-01 1.46203372e+00 1.29023832e+00\n",
            " 4.91703440e+00 1.50940459e+00 2.79995757e+00 1.23896879e+00\n",
            " 1.21092840e+00 1.61710908e+00 1.17473693e+00 1.67300278e+00\n",
            " 3.55293742e-01 5.41635679e-01 1.58308214e+00 1.42353855e-01\n",
            " 2.03540316e+00 2.26624510e+00 1.25019747e+00 9.79504266e-01\n",
            " 4.74489127e-01 1.60704149e+00 3.08845262e+00 1.45612014e+00\n",
            " 2.01342284e+00 1.68965159e+00 1.55659885e+00 1.66900218e-01\n",
            " 6.47094604e-01 1.14638591e+00 1.35515010e+00 1.94028845e+00\n",
            " 3.16971331e-01 4.34068102e-01 1.75636174e+00 1.95142170e+00\n",
            " 1.17672983e+00 1.74082880e+00 1.34887232e+00 1.49764839e+00\n",
            " 1.42305284e+00 1.45066256e+00 6.85293293e-01 3.36223832e-01\n",
            " 7.91034697e-01 1.25113776e-01 1.23484346e+00 1.44369255e-01\n",
            " 2.13625221e+00 4.41870694e+00 3.50968063e-01 4.31416471e-02\n",
            " 2.95351770e-01 9.80860941e-01 1.01286019e+00 2.80134103e-01\n",
            " 3.22687594e-02 9.02711113e-02 8.62862184e-01 1.39730187e+00\n",
            " 5.71083031e-01 2.21751007e+00 1.66312188e-01 2.16536195e+00\n",
            " 1.52539987e+00 4.76141234e-01 4.89260447e+00 5.76293374e-01\n",
            " 1.13620243e+00 1.11289449e+00 4.19781449e-01 2.10785844e+00\n",
            " 2.19804499e+00 3.20847762e-01 1.28629153e+00 7.28577378e-01\n",
            " 2.44115421e-01 7.67417907e-02 2.34725496e+00 4.06977482e-01\n",
            " 4.37261579e-01 1.90533349e+00 2.96946863e-01 1.13037410e+00\n",
            " 4.24030342e-01 4.54991826e-01 3.42865292e+00 3.55568854e-01\n",
            " 8.21505249e-01 2.39077180e+00 1.94109651e-01 7.37048564e-01\n",
            " 1.51638191e+00 7.90043646e-03 1.64206336e+00 3.61373162e+00\n",
            " 1.25245721e+00 7.92265249e-01 1.32624178e-01 4.66892138e-02\n",
            " 6.16283270e-01 1.35275129e-01 2.12737069e-01 3.07690460e+00\n",
            " 3.03757022e-01 1.34128083e+00 8.78760586e-01 8.57524573e-02\n",
            " 1.55946530e+00 3.51638751e+00 3.43045530e-01 1.56114919e+00\n",
            " 5.13276069e-01 8.06800614e-02 1.60076977e+00 3.25550882e-01\n",
            " 1.28790746e+00 3.59318059e-01 3.64193503e+00 9.38918393e-02\n",
            " 3.21142163e+00 5.46716834e-01 4.20539317e-01 5.02077314e-02\n",
            " 1.66546123e-01 2.16342692e+00 1.27883065e+00 1.61985660e-01\n",
            " 3.68932013e+00 8.15192896e-01 1.77968168e-01 2.65361612e+00\n",
            " 1.44492872e+00 6.52474088e-01 2.69092327e+00 2.08261046e+00\n",
            " 6.64122266e-01 1.31438267e-01 2.53485613e+00 7.47112128e-01\n",
            " 2.72298205e-01 6.93454725e-01 1.41825725e+00 1.20804943e+00\n",
            " 2.37617901e-01 7.75481731e-01 9.98497196e-01 1.72100649e+00\n",
            " 6.36346742e-01 2.79475653e+00 7.04413399e-01 6.34515835e-01\n",
            " 4.80732940e-01 1.45795998e+00 3.25770975e-01 9.54700400e-01\n",
            " 1.89661094e+00 1.24422738e+00 1.15348902e+00 6.00319446e-01\n",
            " 3.36935245e+00 8.94593210e-01 1.71863394e+00 5.97064730e-01\n",
            " 1.12395633e-01 3.29476719e-01 1.08593209e+00 4.65701533e-01\n",
            " 5.07857597e-01 2.37017669e+00 8.10287132e-01 8.66788835e-01\n",
            " 1.47740302e+00 2.62972675e+00 9.92563271e-01 1.25993960e+00\n",
            " 8.25887139e-01 1.71987279e+00 1.21442926e+00 7.96915978e-01\n",
            " 1.17898892e+00 4.80078681e-01 3.95824732e-01 2.94334112e-01\n",
            " 2.99893387e-02 5.69088061e-01 9.07018063e-01 1.94346204e-01\n",
            " 8.48556762e-01 1.52440870e+00 2.46295231e-01 5.32598067e-02\n",
            " 1.43165647e-01 1.12950791e+00 8.15519879e-01 9.98036778e-01\n",
            " 1.50512798e+00 4.30197030e-01 8.44466292e-01 1.03094263e+00\n",
            " 3.96600132e-02 5.09124856e-01 1.55821390e+00 1.75113279e+00\n",
            " 3.75557825e-01 3.07790395e-01 6.81202829e-02 1.80490955e-01\n",
            " 3.53211713e-01 1.81814027e+00 4.86381430e-01 7.75628666e-01\n",
            " 1.87727962e+00 7.12899951e-01 1.04174140e+00 6.95809113e-01\n",
            " 1.30553841e+00 1.64529324e+00 5.77061950e-02 4.32929131e-01\n",
            " 3.07420385e-02 1.40894029e-04 1.29019671e+00 4.78856696e-01\n",
            " 2.67279668e-01 7.20205714e-01 1.51926276e-01 7.54797089e-01\n",
            " 1.69779765e+00 8.80732511e-01 1.00295906e-01 1.12871414e+00\n",
            " 4.66433848e-01 1.45840590e+00 5.74536399e-01 3.63539657e-02\n",
            " 1.45798240e+00 2.41349560e+00 2.24624177e+00 1.62416807e+00\n",
            " 1.75841337e+00 1.11120647e+00 3.84956477e-01 1.85208613e+00\n",
            " 1.07560237e+00 1.13780863e+00 2.28410509e-01 1.67853255e+00\n",
            " 5.68834698e-01 1.43695252e-01 4.16983603e-01 3.35846720e+00\n",
            " 6.03154346e-01 9.91121729e-02 6.41207995e-02 2.37841027e+00\n",
            " 1.42057143e+00 4.25016141e-01 2.91731113e-01 1.39169971e+00\n",
            " 9.61658822e-01 1.55104726e+00 8.97708430e-02 6.35675548e-01\n",
            " 2.33317243e+00 4.79018133e-01 1.09784488e-01 9.44955237e-01\n",
            " 1.86903955e-02 8.23583455e-02 2.26595593e-01 7.99146402e-01\n",
            " 8.18358829e-01 1.02188591e-02 5.72542270e-01 2.72095750e+00\n",
            " 1.43158526e+00 1.77744224e+00 1.42224647e+00 3.00325089e-01\n",
            " 5.92175306e-02 5.31014563e-01 5.20780732e-01 6.08909922e+00\n",
            " 3.49031110e+00 4.98943291e-01 4.78743879e-01 4.52816734e-01\n",
            " 5.85976863e-01 1.20038435e+00 1.59426098e-02 2.47840974e-01\n",
            " 4.28858752e-01 2.07568116e+00 2.26644797e+00 7.92113435e-01\n",
            " 6.86511842e-01 9.40503736e-01 1.81538912e+00 4.00553184e-01\n",
            " 2.15728045e+00 1.07197517e+00 5.73197678e-01 2.63393122e+00\n",
            " 1.07855737e+00 4.33414966e+00 8.51933439e-01 9.51877554e-02\n",
            " 9.45079961e-01 2.21938725e+00 3.46660121e-01 1.72470221e+00\n",
            " 3.51532496e+00 1.11979313e-01 3.34305583e+00 2.06864464e+00\n",
            " 6.45389838e-01 8.96843352e-01 1.25847887e+00 7.98846429e-01\n",
            " 1.40839033e+00 7.28013669e-01 9.18283229e-01 1.11396215e+00\n",
            " 1.27905920e+00 7.10249386e-01 1.36960026e+00 1.90631182e+00\n",
            " 1.46373677e-01 1.81629584e+00 6.48361033e-01 6.37109033e-01\n",
            " 1.32668759e-01 3.76003431e-01 4.65946262e-01 4.92689504e-01\n",
            " 3.12450840e-01 5.89347526e-01 3.23706351e-02 6.25509180e-01\n",
            " 1.82902145e+00 1.83542148e+00 1.99963462e+00 7.79601029e-01\n",
            " 1.27272651e+00 1.38794341e+00 1.43232045e-01 8.38860963e-02\n",
            " 1.48049320e+00 1.02623720e+00 8.80460559e-01 1.81508992e+00\n",
            " 3.51077059e-01 4.33660249e-02 2.16372728e-02 1.82412525e-01\n",
            " 1.03558337e+00 4.53308332e-01 9.78724784e-01 2.33266910e-01\n",
            " 6.66864551e-01 2.03739324e+00 1.60117795e+00 7.31593700e-01\n",
            " 6.36877489e+00 1.72853398e-01 2.09964398e-01 2.61688195e+00]\n"
          ],
          "name": "stdout"
        }
      ]
    },
    {
      "cell_type": "markdown",
      "metadata": {
        "id": "lLkmHzcQDfIS",
        "colab_type": "text"
      },
      "source": [
        "Get_data()- It preprocesses the data as we want. We also did one hot-encoding.<br>\n",
        "**Preparing data**"
      ]
    },
    {
      "cell_type": "code",
      "metadata": {
        "id": "nwnPP58PBQAW",
        "colab_type": "code",
        "colab": {}
      },
      "source": [
        "def get_data():\n",
        "  df=pd.read_csv('/content/drive/My Drive/Datasets/Logistic regression/ecommerce_data.csv')\n",
        "  data=df.to_numpy()\n",
        "  X=data[:,:-1]\n",
        "  Y=data[:,-1]\n",
        "  X[:,1]=(X[:,1]-X[:,1].mean())/X[:1].std()\n",
        "  X[:,2]=(X[:,2]-X[:,2].mean())/X[:2].std()\n",
        "  N,D=X.shape\n",
        "  X2=np.zeros((N,D+3))\n",
        "  X2[:,0:(D-1)]=X[:,0:(D-1)]\n",
        "  for n in range(N):\n",
        "    t=int(X[n,D-1])\n",
        "    X2[n,t+D-1]=1\n",
        "  Z=np.zeros((N,4))\n",
        "  Z[np.arange(N),X[:,D-1].astype(np.int32)]=1\n",
        "  assert(np.abs(X2[:,-4:]-Z).sum()< 10e-10)\n",
        "  return X2,Y"
      ],
      "execution_count": 0,
      "outputs": []
    },
    {
      "cell_type": "markdown",
      "metadata": {
        "id": "wpvkRIgdD2Rl",
        "colab_type": "text"
      },
      "source": [
        "Taking all values with binary values (0 or 1)"
      ]
    },
    {
      "cell_type": "code",
      "metadata": {
        "id": "O9nMOapzCkz-",
        "colab_type": "code",
        "colab": {}
      },
      "source": [
        "def get_binary_data():\n",
        "  X,Y=get_data()\n",
        "  X2=X[Y<=1]\n",
        "  Y2=Y[Y<=1]\n",
        "  return X2,Y2"
      ],
      "execution_count": 0,
      "outputs": []
    },
    {
      "cell_type": "code",
      "metadata": {
        "id": "KNridZlhEMh4",
        "colab_type": "code",
        "colab": {}
      },
      "source": [
        "X,Y=get_binary_data()\n",
        "X,Y=shuffle(X,Y)"
      ],
      "execution_count": 0,
      "outputs": []
    },
    {
      "cell_type": "code",
      "metadata": {
        "id": "1dgQdBJ76JuG",
        "colab_type": "code",
        "colab": {}
      },
      "source": [
        "Xtrain=X[:-100]\n",
        "Ytrain=Y[:-100]\n",
        "Xtest=X[-100:]\n",
        "Ytest=Y[-100:]"
      ],
      "execution_count": 0,
      "outputs": []
    },
    {
      "cell_type": "code",
      "metadata": {
        "id": "w2EEABvJBmVO",
        "colab_type": "code",
        "outputId": "415ee864-1db3-4fcb-9dc2-13b9848acf9c",
        "colab": {
          "base_uri": "https://localhost:8080/",
          "height": 34
        }
      },
      "source": [
        "print(Ytrain.shape,Ytest.shape)"
      ],
      "execution_count": 0,
      "outputs": [
        {
          "output_type": "stream",
          "text": [
            "(298,) (100,)\n"
          ],
          "name": "stdout"
        }
      ]
    },
    {
      "cell_type": "code",
      "metadata": {
        "id": "tG5wCFRFG13O",
        "colab_type": "code",
        "colab": {}
      },
      "source": [
        "N,D=X.shape\n",
        "W=np.random.randn(D)\n",
        "b=0"
      ],
      "execution_count": 0,
      "outputs": []
    },
    {
      "cell_type": "markdown",
      "metadata": {
        "id": "sAixkH7CEFvW",
        "colab_type": "text"
      },
      "source": [
        "Defining a function for calculation of sigmoid and forward feed"
      ]
    },
    {
      "cell_type": "code",
      "metadata": {
        "id": "5mjJPBfOIXFq",
        "colab_type": "code",
        "colab": {}
      },
      "source": [
        "def sigmoid(a):\n",
        "  return 1/(1/1+np.exp(-a))\n",
        "\n",
        "def forward(X,W,b):\n",
        "  return sigmoid(X.dot(W)+b)"
      ],
      "execution_count": 0,
      "outputs": []
    },
    {
      "cell_type": "markdown",
      "metadata": {
        "id": "JTsF5toPELt-",
        "colab_type": "text"
      },
      "source": [
        "To calculate classification rate (Score)"
      ]
    },
    {
      "cell_type": "code",
      "metadata": {
        "id": "olqhTRCXJGRB",
        "colab_type": "code",
        "colab": {}
      },
      "source": [
        "def classification_rate(Y,P):\n",
        "  return np.mean(Y==P)"
      ],
      "execution_count": 0,
      "outputs": []
    },
    {
      "cell_type": "markdown",
      "metadata": {
        "id": "nk2P_B5pEQe4",
        "colab_type": "text"
      },
      "source": [
        "Cost Function"
      ]
    },
    {
      "cell_type": "code",
      "metadata": {
        "id": "mQeKS4O06hC6",
        "colab_type": "code",
        "colab": {}
      },
      "source": [
        "def entropy(T,pY):\n",
        "  return -np.mean(T*np.log(pY).T+(1-T)*np.log(1-pY))"
      ],
      "execution_count": 0,
      "outputs": []
    },
    {
      "cell_type": "markdown",
      "metadata": {
        "id": "V4EHm1PZES5z",
        "colab_type": "text"
      },
      "source": [
        "Gradient Descent"
      ]
    },
    {
      "cell_type": "code",
      "metadata": {
        "id": "87bnfN_m6d1s",
        "colab_type": "code",
        "outputId": "27ee63d3-cd92-4a97-c439-5a84dd847ddb",
        "colab": {
          "base_uri": "https://localhost:8080/",
          "height": 185
        }
      },
      "source": [
        "train_costs=[]\n",
        "test_costs=[]\n",
        "learning_rate=0.001\n",
        "for i in range(10000):\n",
        "  pYtrain=forward(Xtrain,W,b)\n",
        "  pYtest=forward(Xtest,W,b)\n",
        "  ctrain=entropy(Ytrain,pYtrain)\n",
        "  ctest=entropy(Ytest,pYtest)\n",
        "  train_costs.append(ctrain)\n",
        "  test_costs.append(ctest)\n",
        "  W-=learning_rate*Xtrain.T.dot(pYtrain-Ytrain)\n",
        "  b-=learning_rate*(pYtrain-Ytrain).sum()\n",
        "  if i%1000==0:\n",
        "    print(i,ctrain,ctest)\n",
        "\n"
      ],
      "execution_count": 0,
      "outputs": [
        {
          "output_type": "stream",
          "text": [
            "0 1.1850391322273182 1.1711719547962645\n",
            "1000 0.18416744736413637 0.19315769222818208\n",
            "2000 0.1826046106476459 0.19083966019507292\n",
            "3000 0.18248313950851452 0.1905165766240617\n",
            "4000 0.1824710071060345 0.1904428101360464\n",
            "5000 0.18246970988223157 0.1904215981304224\n",
            "6000 0.1824695681885457 0.19041490083072296\n",
            "7000 0.18246955260352768 0.19041271395705395\n",
            "8000 0.18246955088537567 0.19041199162228017\n",
            "9000 0.18246955069581622 0.19041175211027273\n"
          ],
          "name": "stdout"
        }
      ]
    },
    {
      "cell_type": "code",
      "metadata": {
        "id": "ZLCMeXtEJMGD",
        "colab_type": "code",
        "outputId": "dba11876-1bfb-4e4d-c709-09e293a5c7f6",
        "colab": {
          "base_uri": "https://localhost:8080/",
          "height": 50
        }
      },
      "source": [
        "print(\"Final train classification_rate \",classification_rate(Ytrain,np.round(pYtrain)))\n",
        "print(\"Final test classification_rate \",classification_rate(Ytest,np.round(pYtest)))\n"
      ],
      "execution_count": 0,
      "outputs": [
        {
          "output_type": "stream",
          "text": [
            "Final train classification_rate  0.9697986577181208\n",
            "Final test classification_rate  0.96\n"
          ],
          "name": "stdout"
        }
      ]
    },
    {
      "cell_type": "markdown",
      "metadata": {
        "id": "4SYvfXHSEXgQ",
        "colab_type": "text"
      },
      "source": [
        "Plotting the train-costs and test-costs"
      ]
    },
    {
      "cell_type": "code",
      "metadata": {
        "id": "iGU91DP2JR1k",
        "colab_type": "code",
        "outputId": "363be24e-c6a4-4b7c-8b03-7b08608f9610",
        "colab": {
          "base_uri": "https://localhost:8080/",
          "height": 265
        }
      },
      "source": [
        "legend1,=plt.plot(train_costs,label='train cost')\n",
        "legend2,=plt.plot(test_costs,label='test cost')\n",
        "plt.legend([legend1,legend2])\n",
        "plt.show()\n"
      ],
      "execution_count": 0,
      "outputs": [
        {
          "output_type": "display_data",
          "data": {
            "image/png": "[encoded data removed]",
            "text/plain": [
              "<Figure size 432x288 with 1 Axes>"
            ]
          },
          "metadata": {
            "tags": [],
            "needs_background": "light"
          }
        }
      ]
    },
    {
      "cell_type": "code",
      "metadata": {
        "id": "I-gC3YZlCHas",
        "colab_type": "code",
        "colab": {}
      },
      "source": [
        ""
      ],
      "execution_count": 0,
      "outputs": []
    }
  ]
}