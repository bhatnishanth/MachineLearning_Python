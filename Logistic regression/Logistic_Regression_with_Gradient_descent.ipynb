{
  "nbformat": 4,
  "nbformat_minor": 0,
  "metadata": {
    "colab": {
      "name": "Logistic Regression with Gradient descent.ipynb",
      "provenance": []
    },
    "kernelspec": {
      "name": "python3",
      "display_name": "Python 3"
    }
  },
  "cells": [
    {
      "cell_type": "code",
      "metadata": {
        "id": "nH6KI4_v1w49",
        "colab_type": "code",
        "colab": {}
      },
      "source": [
        "import numpy as np\n",
        "import matplotlib.pyplot as plt"
      ],
      "execution_count": 0,
      "outputs": []
    },
    {
      "cell_type": "markdown",
      "metadata": {
        "id": "jonI07EuErzt",
        "colab_type": "text"
      },
      "source": [
        "No of features=2<br>\n",
        "No of examples=100"
      ]
    },
    {
      "cell_type": "code",
      "metadata": {
        "id": "VxEyqqZC15Mw",
        "colab_type": "code",
        "colab": {}
      },
      "source": [
        "N=100\n",
        "D=2"
      ],
      "execution_count": 0,
      "outputs": []
    },
    {
      "cell_type": "markdown",
      "metadata": {
        "id": "LwhiRkUtE0sR",
        "colab_type": "text"
      },
      "source": [
        "Mannually preparing our data"
      ]
    },
    {
      "cell_type": "code",
      "metadata": {
        "id": "BRHXq_lG16rj",
        "colab_type": "code",
        "colab": {}
      },
      "source": [
        "X=np.random.randn(N,D)\n",
        "X[:50,:]=X[:50,:] - 2*np.ones((50,D))\n",
        "X[50:,:]=X[50:,:] + 2*np.ones((50,D))\n",
        "T=np.array([0]*50+[1]*50)"
      ],
      "execution_count": 0,
      "outputs": []
    },
    {
      "cell_type": "code",
      "metadata": {
        "id": "j1AvM-UX18XJ",
        "colab_type": "code",
        "colab": {}
      },
      "source": [
        "ones=np.array([[1]*N]).T\n",
        "Xb=np.concatenate((ones,X),axis=1)\n",
        "w=np.random.randn(D+1)"
      ],
      "execution_count": 0,
      "outputs": []
    },
    {
      "cell_type": "code",
      "metadata": {
        "id": "lkf4GHhu1-IL",
        "colab_type": "code",
        "colab": {}
      },
      "source": [
        "z=Xb.dot(w)"
      ],
      "execution_count": 0,
      "outputs": []
    },
    {
      "cell_type": "markdown",
      "metadata": {
        "id": "K1IY4zhuE3rx",
        "colab_type": "text"
      },
      "source": [
        "Calculation of sigmoid <br>\n",
        "sigmoid(z)=1/(1+exp(-z))"
      ]
    },
    {
      "cell_type": "code",
      "metadata": {
        "id": "s38IpxoF1_y1",
        "colab_type": "code",
        "colab": {}
      },
      "source": [
        "def sigmoid(z):\n",
        "  return 1/(1+np.exp(-z))"
      ],
      "execution_count": 0,
      "outputs": []
    },
    {
      "cell_type": "code",
      "metadata": {
        "id": "3W-J0Bhb2BY6",
        "colab_type": "code",
        "colab": {}
      },
      "source": [
        "Y=sigmoid(z)"
      ],
      "execution_count": 0,
      "outputs": []
    },
    {
      "cell_type": "markdown",
      "metadata": {
        "id": "C-FJJ58zFAWz",
        "colab_type": "text"
      },
      "source": [
        "Cost function is also known as entropy or cross-entropy"
      ]
    },
    {
      "cell_type": "code",
      "metadata": {
        "id": "H7vqIE-O2ebo",
        "colab_type": "code",
        "colab": {}
      },
      "source": [
        "def entropy(T,Y):\n",
        "  E=0\n",
        "  for i in range(N):\n",
        "    if T[i]==1:\n",
        "      E-=np.log(Y[i])\n",
        "    else:\n",
        "      E-=np.log(1-Y[i])\n",
        "  return E \n"
      ],
      "execution_count": 0,
      "outputs": []
    },
    {
      "cell_type": "markdown",
      "metadata": {
        "id": "7WxJfbTaFF_s",
        "colab_type": "text"
      },
      "source": [
        "GRADIENT DESCENT"
      ]
    },
    {
      "cell_type": "code",
      "metadata": {
        "id": "WTY_zpBn2C7M",
        "colab_type": "code",
        "outputId": "66d9ae01-6ec7-4952-a486-910618b823c1",
        "colab": {
          "base_uri": "https://localhost:8080/",
          "height": 185
        }
      },
      "source": [
        "learning_rate=0.1\n",
        "for i in range(100):\n",
        "  if i%10==0:\n",
        "    print(entropy(T,Y))\n",
        "  w+=learning_rate*np.dot((T-Y).T,Xb)\n",
        "  Y=sigmoid(Xb.dot(w))\n",
        "  "
      ],
      "execution_count": 0,
      "outputs": [
        {
          "output_type": "stream",
          "text": [
            "1.3547122007204888\n",
            "0.46147089725902446\n",
            "0.3057895504218105\n",
            "0.2334077129551881\n",
            "0.19039008380202796\n",
            "0.16152433437894886\n",
            "0.14067239608402843\n",
            "0.12483761752323609\n",
            "0.11236868129421022\n",
            "0.10227531267466228\n"
          ],
          "name": "stdout"
        }
      ]
    },
    {
      "cell_type": "code",
      "metadata": {
        "id": "IS880Da_2w5V",
        "colab_type": "code",
        "outputId": "1ce66e28-ffca-4045-c57a-06e1e48f1464",
        "colab": {
          "base_uri": "https://localhost:8080/",
          "height": 34
        }
      },
      "source": [
        "print(\"final w:\",w)"
      ],
      "execution_count": 0,
      "outputs": [
        {
          "output_type": "stream",
          "text": [
            "final w: [1.46624478 3.43613321 2.66974027]\n"
          ],
          "name": "stdout"
        }
      ]
    },
    {
      "cell_type": "code",
      "metadata": {
        "id": "QvfOCh-L23ns",
        "colab_type": "code",
        "colab": {}
      },
      "source": [
        ""
      ],
      "execution_count": 0,
      "outputs": []
    }
  ]
}