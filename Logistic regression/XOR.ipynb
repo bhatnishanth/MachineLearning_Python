{
  "nbformat": 4,
  "nbformat_minor": 0,
  "metadata": {
    "colab": {
      "name": "XOR.ipynb",
      "provenance": []
    },
    "kernelspec": {
      "name": "python3",
      "display_name": "Python 3"
    }
  },
  "cells": [
    {
      "cell_type": "markdown",
      "metadata": {
        "id": "7euUbWgkGEsg",
        "colab_type": "text"
      },
      "source": [
        "**XOR gate**"
      ]
    },
    {
      "cell_type": "code",
      "metadata": {
        "id": "Xi7DAQP070J7",
        "colab_type": "code",
        "colab": {}
      },
      "source": [
        "import numpy as np\n",
        "import matplotlib.pyplot as plt"
      ],
      "execution_count": 0,
      "outputs": []
    },
    {
      "cell_type": "code",
      "metadata": {
        "id": "520l0yIC760j",
        "colab_type": "code",
        "colab": {}
      },
      "source": [
        "N=4\n",
        "D=2"
      ],
      "execution_count": 0,
      "outputs": []
    },
    {
      "cell_type": "code",
      "metadata": {
        "id": "8TIhJPsK78Bz",
        "colab_type": "code",
        "colab": {}
      },
      "source": [
        "X=np.array([\n",
        "            [0,0],\n",
        "            [0,1],\n",
        "            [1,0],\n",
        "            [1,1],\n",
        "])\n",
        "T= np.array([1]*N).T\n",
        "ones=np.array([[1]*N]).T"
      ],
      "execution_count": 0,
      "outputs": []
    },
    {
      "cell_type": "code",
      "metadata": {
        "id": "azTHaqcl8L80",
        "colab_type": "code",
        "colab": {
          "base_uri": "https://localhost:8080/",
          "height": 265
        },
        "outputId": "a028397f-a5ce-4ad5-b2ef-38af22a5bcb1"
      },
      "source": [
        "plt.scatter(X[:,0],X[:,1],c=T)\n",
        "plt.show()"
      ],
      "execution_count": 6,
      "outputs": [
        {
          "output_type": "display_data",
          "data": {
            "image/png": "[encoded data removed]",
            "text/plain": [
              "<Figure size 432x288 with 1 Axes>"
            ]
          },
          "metadata": {
            "tags": [],
            "needs_background": "light"
          }
        }
      ]
    },
    {
      "cell_type": "code",
      "metadata": {
        "id": "Gt3qtykm8RIG",
        "colab_type": "code",
        "colab": {}
      },
      "source": [
        "xy=np.matrix(X[:,0] * X[:,1]).T\n",
        "Xb=np.array(np.concatenate((ones,xy,X),axis=1))\n",
        "w=np.random.randn(D+2)"
      ],
      "execution_count": 0,
      "outputs": []
    },
    {
      "cell_type": "code",
      "metadata": {
        "id": "TWEnKWq5832k",
        "colab_type": "code",
        "colab": {}
      },
      "source": [
        "z=Xb.dot(w)"
      ],
      "execution_count": 0,
      "outputs": []
    },
    {
      "cell_type": "code",
      "metadata": {
        "id": "9IfFGXuT9BgC",
        "colab_type": "code",
        "colab": {}
      },
      "source": [
        "def sigmoid(z):\n",
        "  return 1/(1+np.exp(-z))"
      ],
      "execution_count": 0,
      "outputs": []
    },
    {
      "cell_type": "code",
      "metadata": {
        "id": "t4mh5cbx9Dn7",
        "colab_type": "code",
        "colab": {}
      },
      "source": [
        "def entropy(T,Y):\n",
        "  E=0\n",
        "  for i in range(N):\n",
        "    if T[i]==1:\n",
        "      E-=np.log(Y[i])\n",
        "    else:\n",
        "      E-=np.log(1-Y[i])\n",
        "  return E \n"
      ],
      "execution_count": 0,
      "outputs": []
    },
    {
      "cell_type": "code",
      "metadata": {
        "id": "nbOI-uwS9Fah",
        "colab_type": "code",
        "colab": {}
      },
      "source": [
        "Y=sigmoid(z)"
      ],
      "execution_count": 0,
      "outputs": []
    },
    {
      "cell_type": "code",
      "metadata": {
        "id": "fddDzg789Gj7",
        "colab_type": "code",
        "colab": {
          "base_uri": "https://localhost:8080/",
          "height": 857
        },
        "outputId": "ff90d04c-a57b-4541-d000-8fabcc12ddcf"
      },
      "source": [
        "learning_rate=0.001\n",
        "error=[]\n",
        "for i in range(5000):\n",
        "  e=entropy(T,Y)\n",
        "  error.append(e)\n",
        "  if i%100==0:\n",
        "    print(e)\n",
        "  w+=learning_rate*(np.dot((T-Y).T,Xb)- 0.01*w)\n",
        "  Y=sigmoid(Xb.dot(w))"
      ],
      "execution_count": 13,
      "outputs": [
        {
          "output_type": "stream",
          "text": [
            "0.9583764246962286\n",
            "0.8705247759390751\n",
            "0.7965217813730932\n",
            "0.7334937774633136\n",
            "0.6792813481357514\n",
            "0.6322369028485731\n",
            "0.5910857242070168\n",
            "0.554828916545127\n",
            "0.5226745091911069\n",
            "0.49398780053770275\n",
            "0.4682550626127951\n",
            "0.4450566625528876\n",
            "0.42404691461971816\n",
            "0.40493880576358116\n",
            "0.38749229325388584\n",
            "0.37150525038559246\n",
            "0.35680639628363775\n",
            "0.3432497272227411\n",
            "0.33071009495548337\n",
            "0.31907966899765494\n",
            "0.30826508582606993\n",
            "0.2981851360636607\n",
            "0.2887688761415472\n",
            "0.2799540772276046\n",
            "0.2716859439089028\n",
            "0.2639160499881397\n",
            "0.2566014500703149\n",
            "0.24970393428880056\n",
            "0.24318940021346017\n",
            "0.2370273211834286\n",
            "0.2311902943725039\n",
            "0.22565365509247182\n",
            "0.2203951463689227\n",
            "0.21539463483585614\n",
            "0.2106338656039167\n",
            "0.20609625004975518\n",
            "0.2017666815178106\n",
            "0.19763137477260587\n",
            "0.19367772572965591\n",
            "0.1898941885577255\n",
            "0.1862701677091643\n",
            "0.18279592281778095\n",
            "0.17946248472067908\n",
            "0.17626158112387408\n",
            "0.17318557065122747\n",
            "0.17022738420007508\n",
            "0.1673804726813164\n",
            "0.16463876035174205\n",
            "0.16199660305622954\n",
            "0.15944875079053647\n"
          ],
          "name": "stdout"
        }
      ]
    },
    {
      "cell_type": "code",
      "metadata": {
        "id": "bkXnKyEA9bFT",
        "colab_type": "code",
        "colab": {
          "base_uri": "https://localhost:8080/",
          "height": 298
        },
        "outputId": "6381548d-69c7-465c-8116-60aa59f3bf01"
      },
      "source": [
        "plt.plot(error)\n",
        "plt.title('Cross entropy')"
      ],
      "execution_count": 14,
      "outputs": [
        {
          "output_type": "execute_result",
          "data": {
            "text/plain": [
              "Text(0.5, 1.0, 'Cross entropy')"
            ]
          },
          "metadata": {
            "tags": []
          },
          "execution_count": 14
        },
        {
          "output_type": "display_data",
          "data": {
            "image/png": "[encoded data removed]",
            "text/plain": [
              "<Figure size 432x288 with 1 Axes>"
            ]
          },
          "metadata": {
            "tags": [],
            "needs_background": "light"
          }
        }
      ]
    },
    {
      "cell_type": "code",
      "metadata": {
        "id": "p9hxnXMn9erY",
        "colab_type": "code",
        "colab": {
          "base_uri": "https://localhost:8080/",
          "height": 50
        },
        "outputId": "78794210-7e9e-416c-e248-b0cfe107d51d"
      },
      "source": [
        "print('Final w: ',w)\n",
        "print('Final classification rate: ',1-np.abs(T-np.round(Y)).sum()/N)"
      ],
      "execution_count": 15,
      "outputs": [
        {
          "output_type": "stream",
          "text": [
            "Final w:  [2.67837745 0.87551612 1.08135879 0.12223215]\n",
            "Final classification rate:  1.0\n"
          ],
          "name": "stdout"
        }
      ]
    },
    {
      "cell_type": "code",
      "metadata": {
        "id": "l6Uko1VZ9g8K",
        "colab_type": "code",
        "colab": {}
      },
      "source": [
        ""
      ],
      "execution_count": 0,
      "outputs": []
    }
  ]
}