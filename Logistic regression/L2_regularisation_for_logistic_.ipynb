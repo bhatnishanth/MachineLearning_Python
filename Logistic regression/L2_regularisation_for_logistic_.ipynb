{
  "nbformat": 4,
  "nbformat_minor": 0,
  "metadata": {
    "colab": {
      "name": "L2 regularisation for logistic .ipynb",
      "provenance": []
    },
    "kernelspec": {
      "name": "python3",
      "display_name": "Python 3"
    }
  },
  "cells": [
    {
      "cell_type": "code",
      "metadata": {
        "id": "OwvvaSjXbXKD",
        "colab_type": "code",
        "colab": {}
      },
      "source": [
        "import numpy as np\n",
        "import matplotlib.pyplot as plt"
      ],
      "execution_count": 0,
      "outputs": []
    },
    {
      "cell_type": "code",
      "metadata": {
        "id": "JcueYPmuiNGp",
        "colab_type": "code",
        "colab": {}
      },
      "source": [
        "N=100\n",
        "D=2"
      ],
      "execution_count": 0,
      "outputs": []
    },
    {
      "cell_type": "code",
      "metadata": {
        "id": "d5k-4NxfiOxV",
        "colab_type": "code",
        "colab": {}
      },
      "source": [
        "X=np.random.randn(N,D)\n",
        "X[:50,:]=X[:50,:] - 2*np.ones((50,D))\n",
        "X[50:,:]=X[50:,:] + 2*np.ones((50,D))\n",
        "T=np.array([0]*50+[1]*50)"
      ],
      "execution_count": 0,
      "outputs": []
    },
    {
      "cell_type": "code",
      "metadata": {
        "id": "YDqqfsXciQfW",
        "colab_type": "code",
        "colab": {}
      },
      "source": [
        "ones=np.array([[1]*N]).T\n",
        "Xb=np.concatenate((ones,X),axis=1)\n",
        "w=np.random.randn(D+1)"
      ],
      "execution_count": 0,
      "outputs": []
    },
    {
      "cell_type": "code",
      "metadata": {
        "id": "LdB82NcMiSMk",
        "colab_type": "code",
        "colab": {}
      },
      "source": [
        "z=Xb.dot(w)"
      ],
      "execution_count": 0,
      "outputs": []
    },
    {
      "cell_type": "code",
      "metadata": {
        "id": "XCB2xZ4WiUGc",
        "colab_type": "code",
        "colab": {}
      },
      "source": [
        "def sigmoid(z):\n",
        "  return 1/(1+np.exp(-z))"
      ],
      "execution_count": 0,
      "outputs": []
    },
    {
      "cell_type": "code",
      "metadata": {
        "id": "nUQCJcpZiV09",
        "colab_type": "code",
        "colab": {}
      },
      "source": [
        "Y=sigmoid(z)"
      ],
      "execution_count": 0,
      "outputs": []
    },
    {
      "cell_type": "code",
      "metadata": {
        "id": "w_hm-doUiX-O",
        "colab_type": "code",
        "colab": {}
      },
      "source": [
        "def entropy(T,Y):\n",
        "  E=0\n",
        "  for i in range(N):\n",
        "    if T[i]==1:\n",
        "      E-=np.log(Y[i])\n",
        "    else:\n",
        "      E-=np.log(1-Y[i])\n",
        "  return E \n"
      ],
      "execution_count": 0,
      "outputs": []
    },
    {
      "cell_type": "code",
      "metadata": {
        "id": "QBIuaevkiZuj",
        "colab_type": "code",
        "colab": {
          "base_uri": "https://localhost:8080/",
          "height": 185
        },
        "outputId": "b0262b51-21fa-4801-ce6e-e4a0c768560e"
      },
      "source": [
        "learning_rate=0.1\n",
        "for i in range(100):\n",
        "  if i%10==0:\n",
        "    print(entropy(T,Y))\n",
        "  w+=learning_rate*(np.dot((T-Y).T,Xb) -0.1*w)\n",
        "  Y=sigmoid(Xb.dot(w))\n",
        "  "
      ],
      "execution_count": 18,
      "outputs": [
        {
          "output_type": "stream",
          "text": [
            "11.405837702753127\n",
            "0.9806484213683703\n",
            "0.8864723775370005\n",
            "0.8361800164448315\n",
            "0.8060452196920329\n",
            "0.7869611419651332\n",
            "0.7744793832656777\n",
            "0.766147691523761\n",
            "0.7605108682285074\n",
            "0.756662316244203\n"
          ],
          "name": "stdout"
        }
      ]
    },
    {
      "cell_type": "code",
      "metadata": {
        "id": "tsPcLip6icI1",
        "colab_type": "code",
        "colab": {
          "base_uri": "https://localhost:8080/",
          "height": 34
        },
        "outputId": "76f39d90-fe5e-4d83-c2e0-dbd1f407c39e"
      },
      "source": [
        "print('final w: ',w) "
      ],
      "execution_count": 19,
      "outputs": [
        {
          "output_type": "stream",
          "text": [
            "final w:  [-0.61350148  2.8516153   2.39049507]\n"
          ],
          "name": "stdout"
        }
      ]
    },
    {
      "cell_type": "code",
      "metadata": {
        "id": "ZhYWfGg_iut0",
        "colab_type": "code",
        "colab": {}
      },
      "source": [
        " "
      ],
      "execution_count": 0,
      "outputs": []
    }
  ]
}